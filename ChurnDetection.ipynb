{
 "cells": [
  {
   "cell_type": "markdown",
   "id": "b71d72a8",
   "metadata": {},
   "source": [
    "## Importing necessary Libraries"
   ]
  },
  {
   "cell_type": "code",
   "execution_count": 1,
   "id": "e0e9a3a6",
   "metadata": {},
   "outputs": [
    {
     "name": "stderr",
     "output_type": "stream",
     "text": [
      "C:\\Users\\HP\\AppData\\Local\\Programs\\Python\\Python311\\Lib\\site-packages\\numpy\\_distributor_init.py:30: UserWarning: loaded more than 1 DLL from .libs:\n",
      "C:\\Users\\HP\\AppData\\Local\\Programs\\Python\\Python311\\Lib\\site-packages\\numpy\\.libs\\libopenblas.FB5AE2TYXYH2IJRDKGDGQ3XBKLKTF43H.gfortran-win_amd64.dll\n",
      "C:\\Users\\HP\\AppData\\Local\\Programs\\Python\\Python311\\Lib\\site-packages\\numpy\\.libs\\libopenblas64__v0.3.21-gcc_10_3_0.dll\n",
      "  warnings.warn(\"loaded more than 1 DLL from .libs:\"\n"
     ]
    }
   ],
   "source": [
    "import numpy as np \n",
    "import pandas as pd \n",
    "import seaborn as sns \n",
    "import matplotlib.ticker as mtick  \n",
    "import matplotlib.pyplot as plt\n",
    "%matplotlib inline\n",
    "import tensorflow as tf"
   ]
  },
  {
   "cell_type": "markdown",
   "id": "79f144df",
   "metadata": {},
   "source": [
    "## Loading the Dataset"
   ]
  },
  {
   "cell_type": "code",
   "execution_count": 2,
   "id": "5aebe22c",
   "metadata": {},
   "outputs": [],
   "source": [
    "dataset = pd.read_csv( 'dataset.csv' )"
   ]
  },
  {
   "cell_type": "code",
   "execution_count": 3,
   "id": "cbe61233",
   "metadata": {},
   "outputs": [
    {
     "data": {
      "text/html": [
       "<div>\n",
       "<style scoped>\n",
       "    .dataframe tbody tr th:only-of-type {\n",
       "        vertical-align: middle;\n",
       "    }\n",
       "\n",
       "    .dataframe tbody tr th {\n",
       "        vertical-align: top;\n",
       "    }\n",
       "\n",
       "    .dataframe thead th {\n",
       "        text-align: right;\n",
       "    }\n",
       "</style>\n",
       "<table border=\"1\" class=\"dataframe\">\n",
       "  <thead>\n",
       "    <tr style=\"text-align: right;\">\n",
       "      <th></th>\n",
       "      <th>CustomerID</th>\n",
       "      <th>Name</th>\n",
       "      <th>Age</th>\n",
       "      <th>Gender</th>\n",
       "      <th>Location</th>\n",
       "      <th>Subscription_Length_Months</th>\n",
       "      <th>Monthly_Bill</th>\n",
       "      <th>Total_Charges</th>\n",
       "      <th>Total_Usage_GB</th>\n",
       "      <th>Churn</th>\n",
       "    </tr>\n",
       "  </thead>\n",
       "  <tbody>\n",
       "    <tr>\n",
       "      <th>0</th>\n",
       "      <td>1</td>\n",
       "      <td>Customer_1</td>\n",
       "      <td>63</td>\n",
       "      <td>Male</td>\n",
       "      <td>Los Angeles</td>\n",
       "      <td>17</td>\n",
       "      <td>73.36</td>\n",
       "      <td>1247.12</td>\n",
       "      <td>236</td>\n",
       "      <td>0</td>\n",
       "    </tr>\n",
       "    <tr>\n",
       "      <th>1</th>\n",
       "      <td>2</td>\n",
       "      <td>Customer_2</td>\n",
       "      <td>62</td>\n",
       "      <td>Female</td>\n",
       "      <td>New York</td>\n",
       "      <td>1</td>\n",
       "      <td>48.76</td>\n",
       "      <td>48.76</td>\n",
       "      <td>172</td>\n",
       "      <td>0</td>\n",
       "    </tr>\n",
       "    <tr>\n",
       "      <th>2</th>\n",
       "      <td>3</td>\n",
       "      <td>Customer_3</td>\n",
       "      <td>24</td>\n",
       "      <td>Female</td>\n",
       "      <td>Los Angeles</td>\n",
       "      <td>5</td>\n",
       "      <td>85.47</td>\n",
       "      <td>427.35</td>\n",
       "      <td>460</td>\n",
       "      <td>0</td>\n",
       "    </tr>\n",
       "    <tr>\n",
       "      <th>3</th>\n",
       "      <td>4</td>\n",
       "      <td>Customer_4</td>\n",
       "      <td>36</td>\n",
       "      <td>Female</td>\n",
       "      <td>Miami</td>\n",
       "      <td>3</td>\n",
       "      <td>97.94</td>\n",
       "      <td>293.82</td>\n",
       "      <td>297</td>\n",
       "      <td>1</td>\n",
       "    </tr>\n",
       "    <tr>\n",
       "      <th>4</th>\n",
       "      <td>5</td>\n",
       "      <td>Customer_5</td>\n",
       "      <td>46</td>\n",
       "      <td>Female</td>\n",
       "      <td>Miami</td>\n",
       "      <td>19</td>\n",
       "      <td>58.14</td>\n",
       "      <td>1104.66</td>\n",
       "      <td>266</td>\n",
       "      <td>0</td>\n",
       "    </tr>\n",
       "  </tbody>\n",
       "</table>\n",
       "</div>"
      ],
      "text/plain": [
       "   CustomerID        Name  Age  Gender     Location  \\\n",
       "0           1  Customer_1   63    Male  Los Angeles   \n",
       "1           2  Customer_2   62  Female     New York   \n",
       "2           3  Customer_3   24  Female  Los Angeles   \n",
       "3           4  Customer_4   36  Female        Miami   \n",
       "4           5  Customer_5   46  Female        Miami   \n",
       "\n",
       "   Subscription_Length_Months  Monthly_Bill  Total_Charges  Total_Usage_GB  \\\n",
       "0                          17         73.36        1247.12             236   \n",
       "1                           1         48.76          48.76             172   \n",
       "2                           5         85.47         427.35             460   \n",
       "3                           3         97.94         293.82             297   \n",
       "4                          19         58.14        1104.66             266   \n",
       "\n",
       "   Churn  \n",
       "0      0  \n",
       "1      0  \n",
       "2      0  \n",
       "3      1  \n",
       "4      0  "
      ]
     },
     "execution_count": 3,
     "metadata": {},
     "output_type": "execute_result"
    }
   ],
   "source": [
    "dataset.head()"
   ]
  },
  {
   "cell_type": "code",
   "execution_count": 4,
   "id": "1c1a6acb",
   "metadata": {},
   "outputs": [
    {
     "data": {
      "text/plain": [
       "(100000, 10)"
      ]
     },
     "execution_count": 4,
     "metadata": {},
     "output_type": "execute_result"
    }
   ],
   "source": [
    "dataset.shape"
   ]
  },
  {
   "cell_type": "code",
   "execution_count": 5,
   "id": "05655945",
   "metadata": {},
   "outputs": [
    {
     "data": {
      "text/plain": [
       "array(['CustomerID', 'Name', 'Age', 'Gender', 'Location',\n",
       "       'Subscription_Length_Months', 'Monthly_Bill', 'Total_Charges',\n",
       "       'Total_Usage_GB', 'Churn'], dtype=object)"
      ]
     },
     "execution_count": 5,
     "metadata": {},
     "output_type": "execute_result"
    }
   ],
   "source": [
    "#To check the name of features.\n",
    "dataset.columns.values"
   ]
  },
  {
   "cell_type": "code",
   "execution_count": 6,
   "id": "0cbb3c13",
   "metadata": {},
   "outputs": [
    {
     "data": {
      "text/plain": [
       "CustomerID                      int64\n",
       "Name                           object\n",
       "Age                             int64\n",
       "Gender                         object\n",
       "Location                       object\n",
       "Subscription_Length_Months      int64\n",
       "Monthly_Bill                  float64\n",
       "Total_Charges                 float64\n",
       "Total_Usage_GB                  int64\n",
       "Churn                           int64\n",
       "dtype: object"
      ]
     },
     "execution_count": 6,
     "metadata": {},
     "output_type": "execute_result"
    }
   ],
   "source": [
    "# Checking the data types of all the columns\n",
    "dataset.dtypes"
   ]
  },
  {
   "cell_type": "code",
   "execution_count": 7,
   "id": "6534d1a4",
   "metadata": {},
   "outputs": [
    {
     "data": {
      "text/html": [
       "<div>\n",
       "<style scoped>\n",
       "    .dataframe tbody tr th:only-of-type {\n",
       "        vertical-align: middle;\n",
       "    }\n",
       "\n",
       "    .dataframe tbody tr th {\n",
       "        vertical-align: top;\n",
       "    }\n",
       "\n",
       "    .dataframe thead th {\n",
       "        text-align: right;\n",
       "    }\n",
       "</style>\n",
       "<table border=\"1\" class=\"dataframe\">\n",
       "  <thead>\n",
       "    <tr style=\"text-align: right;\">\n",
       "      <th></th>\n",
       "      <th>CustomerID</th>\n",
       "      <th>Age</th>\n",
       "      <th>Subscription_Length_Months</th>\n",
       "      <th>Monthly_Bill</th>\n",
       "      <th>Total_Charges</th>\n",
       "      <th>Total_Usage_GB</th>\n",
       "      <th>Churn</th>\n",
       "    </tr>\n",
       "  </thead>\n",
       "  <tbody>\n",
       "    <tr>\n",
       "      <th>count</th>\n",
       "      <td>100000.000000</td>\n",
       "      <td>100000.000000</td>\n",
       "      <td>100000.000000</td>\n",
       "      <td>100000.000000</td>\n",
       "      <td>100000.000000</td>\n",
       "      <td>100000.000000</td>\n",
       "      <td>100000.000000</td>\n",
       "    </tr>\n",
       "    <tr>\n",
       "      <th>mean</th>\n",
       "      <td>50000.500000</td>\n",
       "      <td>44.027020</td>\n",
       "      <td>12.490100</td>\n",
       "      <td>65.053197</td>\n",
       "      <td>811.779157</td>\n",
       "      <td>274.393650</td>\n",
       "      <td>0.497790</td>\n",
       "    </tr>\n",
       "    <tr>\n",
       "      <th>std</th>\n",
       "      <td>28867.657797</td>\n",
       "      <td>15.280283</td>\n",
       "      <td>6.926461</td>\n",
       "      <td>20.230696</td>\n",
       "      <td>533.858809</td>\n",
       "      <td>130.463063</td>\n",
       "      <td>0.499998</td>\n",
       "    </tr>\n",
       "    <tr>\n",
       "      <th>min</th>\n",
       "      <td>1.000000</td>\n",
       "      <td>18.000000</td>\n",
       "      <td>1.000000</td>\n",
       "      <td>30.000000</td>\n",
       "      <td>30.060000</td>\n",
       "      <td>50.000000</td>\n",
       "      <td>0.000000</td>\n",
       "    </tr>\n",
       "    <tr>\n",
       "      <th>25%</th>\n",
       "      <td>25000.750000</td>\n",
       "      <td>31.000000</td>\n",
       "      <td>6.000000</td>\n",
       "      <td>47.540000</td>\n",
       "      <td>378.240000</td>\n",
       "      <td>161.000000</td>\n",
       "      <td>0.000000</td>\n",
       "    </tr>\n",
       "    <tr>\n",
       "      <th>50%</th>\n",
       "      <td>50000.500000</td>\n",
       "      <td>44.000000</td>\n",
       "      <td>12.000000</td>\n",
       "      <td>65.010000</td>\n",
       "      <td>726.340000</td>\n",
       "      <td>274.000000</td>\n",
       "      <td>0.000000</td>\n",
       "    </tr>\n",
       "    <tr>\n",
       "      <th>75%</th>\n",
       "      <td>75000.250000</td>\n",
       "      <td>57.000000</td>\n",
       "      <td>19.000000</td>\n",
       "      <td>82.640000</td>\n",
       "      <td>1161.862500</td>\n",
       "      <td>387.000000</td>\n",
       "      <td>1.000000</td>\n",
       "    </tr>\n",
       "    <tr>\n",
       "      <th>max</th>\n",
       "      <td>100000.000000</td>\n",
       "      <td>70.000000</td>\n",
       "      <td>24.000000</td>\n",
       "      <td>100.000000</td>\n",
       "      <td>2399.520000</td>\n",
       "      <td>500.000000</td>\n",
       "      <td>1.000000</td>\n",
       "    </tr>\n",
       "  </tbody>\n",
       "</table>\n",
       "</div>"
      ],
      "text/plain": [
       "          CustomerID            Age  Subscription_Length_Months  \\\n",
       "count  100000.000000  100000.000000               100000.000000   \n",
       "mean    50000.500000      44.027020                   12.490100   \n",
       "std     28867.657797      15.280283                    6.926461   \n",
       "min         1.000000      18.000000                    1.000000   \n",
       "25%     25000.750000      31.000000                    6.000000   \n",
       "50%     50000.500000      44.000000                   12.000000   \n",
       "75%     75000.250000      57.000000                   19.000000   \n",
       "max    100000.000000      70.000000                   24.000000   \n",
       "\n",
       "        Monthly_Bill  Total_Charges  Total_Usage_GB          Churn  \n",
       "count  100000.000000  100000.000000   100000.000000  100000.000000  \n",
       "mean       65.053197     811.779157      274.393650       0.497790  \n",
       "std        20.230696     533.858809      130.463063       0.499998  \n",
       "min        30.000000      30.060000       50.000000       0.000000  \n",
       "25%        47.540000     378.240000      161.000000       0.000000  \n",
       "50%        65.010000     726.340000      274.000000       0.000000  \n",
       "75%        82.640000    1161.862500      387.000000       1.000000  \n",
       "max       100.000000    2399.520000      500.000000       1.000000  "
      ]
     },
     "execution_count": 7,
     "metadata": {},
     "output_type": "execute_result"
    }
   ],
   "source": [
    "# Check the descriptive statistics of numeric variables\n",
    "dataset.describe()"
   ]
  },
  {
   "cell_type": "markdown",
   "id": "d2c8e46b",
   "metadata": {},
   "source": [
    "## Plotting the yes and no churn values"
   ]
  },
  {
   "cell_type": "code",
   "execution_count": 8,
   "id": "2264e2c0",
   "metadata": {},
   "outputs": [
    {
     "data": {
      "image/png": "[encoded data removed]",
      "text/plain": [
       "<Figure size 800x600 with 1 Axes>"
      ]
     },
     "metadata": {},
     "output_type": "display_data"
    }
   ],
   "source": [
    "#1-yes and 0-no\n",
    "dataset['Churn'].value_counts().plot(kind='barh', figsize=(8, 6))\n",
    "plt.xlabel(\"Count\", labelpad=14)\n",
    "plt.ylabel(\"Target Variable\", labelpad=14)\n",
    "plt.title(\"Count of TARGET Variable per category\", y=1.02);"
   ]
  },
  {
   "cell_type": "markdown",
   "id": "03ff2081",
   "metadata": {},
   "source": [
    "The inference drawn is that the dataset is perfectly balanced, we can also print the number of yes and no values."
   ]
  },
  {
   "cell_type": "code",
   "execution_count": 9,
   "id": "52c70a6d",
   "metadata": {},
   "outputs": [
    {
     "data": {
      "text/plain": [
       "0    50221\n",
       "1    49779\n",
       "Name: Churn, dtype: int64"
      ]
     },
     "execution_count": 9,
     "metadata": {},
     "output_type": "execute_result"
    }
   ],
   "source": [
    "#100*dataset['Churn'].value_counts()/len(dataset['Churn'])\n",
    "dataset['Churn'].value_counts()"
   ]
  },
  {
   "cell_type": "markdown",
   "id": "ca2e5c53",
   "metadata": {},
   "source": [
    "The dataset is nearly balanced, so we dont need to upscale or downscale it in order to balance it."
   ]
  },
  {
   "cell_type": "markdown",
   "id": "4f4783df",
   "metadata": {},
   "source": [
    "## Finding the number of missing values if any"
   ]
  },
  {
   "cell_type": "code",
   "execution_count": 338,
   "id": "05616ce9",
   "metadata": {},
   "outputs": [
    {
     "name": "stdout",
     "output_type": "stream",
     "text": [
      "Missing values in dataset.csv:\n",
      "CustomerID                    0\n",
      "Name                          0\n",
      "Age                           0\n",
      "Gender                        0\n",
      "Location                      0\n",
      "Subscription_Length_Months    0\n",
      "Monthly_Bill                  0\n",
      "Total_Charges                 0\n",
      "Total_Usage_GB                0\n",
      "Churn                         0\n",
      "Years                         0\n",
      "Month                         0\n",
      "dtype: int64\n"
     ]
    }
   ],
   "source": [
    "no_val = df.isnull().sum()\n",
    "print(\"Missing values in dataset.csv:\")\n",
    "print(no_val)"
   ]
  },
  {
   "cell_type": "markdown",
   "id": "1dc02d2a",
   "metadata": {},
   "source": [
    "No null values were found so no need for interpolation."
   ]
  },
  {
   "cell_type": "markdown",
   "id": "50f6dd44",
   "metadata": {},
   "source": [
    "# Data Exploration"
   ]
  },
  {
   "cell_type": "code",
   "execution_count": 339,
   "id": "129b9bc2",
   "metadata": {},
   "outputs": [
    {
     "name": "stderr",
     "output_type": "stream",
     "text": [
      "C:\\Users\\HP\\AppData\\Local\\Temp\\ipykernel_13420\\3588561495.py:1: FutureWarning: \n",
      "\n",
      "`shade` is now deprecated in favor of `fill`; setting `fill=True`.\n",
      "This will become an error in seaborn v0.14.0; please update your code.\n",
      "\n",
      "  Mth = sns.kdeplot(dataset.Monthly_Bill[(df[\"Churn\"] == 0) ],\n",
      "C:\\Users\\HP\\AppData\\Local\\Temp\\ipykernel_13420\\3588561495.py:3: FutureWarning: \n",
      "\n",
      "`shade` is now deprecated in favor of `fill`; setting `fill=True`.\n",
      "This will become an error in seaborn v0.14.0; please update your code.\n",
      "\n",
      "  Mth = sns.kdeplot(dataset.Monthly_Bill[(df[\"Churn\"] == 1) ],\n"
     ]
    },
    {
     "data": {
      "text/plain": [
       "Text(0.5, 1.0, 'Monthly charges by churn')"
      ]
     },
     "execution_count": 339,
     "metadata": {},
     "output_type": "execute_result"
    },
    {
     "data": {
      "image/png": "[encoded data removed]",
      "text/plain": [
       "<Figure size 640x480 with 1 Axes>"
      ]
     },
     "metadata": {},
     "output_type": "display_data"
    }
   ],
   "source": [
    "Mth = sns.kdeplot(dataset.Monthly_Bill[(df[\"Churn\"] == 0) ],\n",
    "                color=\"Red\", shade = True)\n",
    "Mth = sns.kdeplot(dataset.Monthly_Bill[(df[\"Churn\"] == 1) ],\n",
    "                ax =Mth, color=\"Blue\", shade= True)\n",
    "Mth.legend([\"No Churn\",\"Churn\"],loc='upper right')\n",
    "Mth.set_ylabel('Density')\n",
    "Mth.set_xlabel('Monthly Charges')\n",
    "Mth.set_title('Monthly charges by churn')"
   ]
  },
  {
   "cell_type": "markdown",
   "id": "02fa9e8a",
   "metadata": {},
   "source": [
    "We can see that our dataset is uniform and nicely balanced."
   ]
  },
  {
   "cell_type": "code",
   "execution_count": 12,
   "id": "dc7813a3",
   "metadata": {},
   "outputs": [
    {
     "name": "stderr",
     "output_type": "stream",
     "text": [
      "C:\\Users\\HP\\AppData\\Local\\Temp\\ipykernel_13420\\2382821686.py:1: FutureWarning: \n",
      "\n",
      "`shade` is now deprecated in favor of `fill`; setting `fill=True`.\n",
      "This will become an error in seaborn v0.14.0; please update your code.\n",
      "\n",
      "  Tot = sns.kdeplot(dataset.Total_Usage_GB[(dataset[\"Churn\"] == 0) ],\n",
      "C:\\Users\\HP\\AppData\\Local\\Temp\\ipykernel_13420\\2382821686.py:3: FutureWarning: \n",
      "\n",
      "`shade` is now deprecated in favor of `fill`; setting `fill=True`.\n",
      "This will become an error in seaborn v0.14.0; please update your code.\n",
      "\n",
      "  Tot = sns.kdeplot(dataset.Total_Usage_GB[(dataset[\"Churn\"] == 1) ],\n"
     ]
    },
    {
     "data": {
      "text/plain": [
       "Text(0.5, 1.0, 'Total charges by churn')"
      ]
     },
     "execution_count": 12,
     "metadata": {},
     "output_type": "execute_result"
    },
    {
     "data": {
      "image/png": "[encoded data removed]",
      "text/plain": [
       "<Figure size 640x480 with 1 Axes>"
      ]
     },
     "metadata": {},
     "output_type": "display_data"
    }
   ],
   "source": [
    "Tot = sns.kdeplot(dataset.Total_Usage_GB[(dataset[\"Churn\"] == 0) ],\n",
    "                color=\"Red\", shade = True)\n",
    "Tot = sns.kdeplot(dataset.Total_Usage_GB[(dataset[\"Churn\"] == 1) ],\n",
    "                ax =Tot, color=\"Blue\", shade= True)\n",
    "Tot.legend([\"No Churn\",\"Churn\"],loc='upper right')\n",
    "Tot.set_ylabel('Density')\n",
    "Tot.set_xlabel('Total Charges')\n",
    "Tot.set_title('Total charges by churn')"
   ]
  },
  {
   "cell_type": "code",
   "execution_count": 340,
   "id": "40bc469d",
   "metadata": {},
   "outputs": [
    {
     "name": "stderr",
     "output_type": "stream",
     "text": [
      "C:\\Users\\HP\\AppData\\Local\\Temp\\ipykernel_13420\\3385856175.py:2: FutureWarning: The default value of numeric_only in DataFrame.corr is deprecated. In a future version, it will default to False. Select only valid columns or specify the value of numeric_only to silence this warning.\n",
      "  sns.heatmap(df.corr(), cmap=\"Paired\")\n"
     ]
    },
    {
     "data": {
      "text/plain": [
       "<Axes: >"
      ]
     },
     "execution_count": 340,
     "metadata": {},
     "output_type": "execute_result"
    },
    {
     "data": {
      "image/png": "[encoded data removed]",
      "text/plain": [
       "<Figure size 1200x1200 with 2 Axes>"
      ]
     },
     "metadata": {},
     "output_type": "display_data"
    }
   ],
   "source": [
    "plt.figure(figsize=(12,12))\n",
    "sns.heatmap(df.corr(), cmap=\"Paired\")"
   ]
  },
  {
   "cell_type": "markdown",
   "id": "28d0c485",
   "metadata": {},
   "source": [
    "## Dividing the dataset."
   ]
  },
  {
   "cell_type": "code",
   "execution_count": 14,
   "id": "577ab905",
   "metadata": {},
   "outputs": [],
   "source": [
    "dataset=pd.read_csv(\"dataset.csv\")\n",
    "X=dataset.iloc[:,2:-1].values\n",
    "y=dataset.iloc[:,-1].values"
   ]
  },
  {
   "cell_type": "code",
   "execution_count": 344,
   "id": "99540373",
   "metadata": {},
   "outputs": [
    {
     "data": {
      "text/plain": [
       "array([[63, 'Male', 'Los Angeles', ..., 236, 1, 5],\n",
       "       [62, 'Female', 'New York', ..., 172, 0, 1],\n",
       "       [24, 'Female', 'Los Angeles', ..., 460, 0, 5],\n",
       "       ...,\n",
       "       [64, 'Male', 'Chicago', ..., 251, 1, 5],\n",
       "       [51, 'Female', 'New York', ..., 434, 1, 8],\n",
       "       [27, 'Female', 'Los Angeles', ..., 173, 1, 7]], dtype=object)"
      ]
     },
     "execution_count": 344,
     "metadata": {},
     "output_type": "execute_result"
    }
   ],
   "source": [
    "X"
   ]
  },
  {
   "cell_type": "code",
   "execution_count": 345,
   "id": "d88592aa",
   "metadata": {},
   "outputs": [
    {
     "data": {
      "text/plain": [
       "(100000, 9)"
      ]
     },
     "execution_count": 345,
     "metadata": {},
     "output_type": "execute_result"
    }
   ],
   "source": [
    "X.shape"
   ]
  },
  {
   "cell_type": "code",
   "execution_count": 346,
   "id": "a7f42a61",
   "metadata": {},
   "outputs": [
    {
     "data": {
      "text/plain": [
       "0        1\n",
       "1        0\n",
       "2        0\n",
       "3        0\n",
       "4        1\n",
       "        ..\n",
       "99995    1\n",
       "99996    1\n",
       "99997    1\n",
       "99998    1\n",
       "99999    1\n",
       "Name: Churn, Length: 100000, dtype: int64"
      ]
     },
     "execution_count": 346,
     "metadata": {},
     "output_type": "execute_result"
    }
   ],
   "source": [
    "y"
   ]
  },
  {
   "cell_type": "markdown",
   "id": "cdc628c2",
   "metadata": {},
   "source": [
    "## Encoding the data"
   ]
  },
  {
   "cell_type": "code",
   "execution_count": 13,
   "id": "823090ea",
   "metadata": {},
   "outputs": [],
   "source": [
    "from sklearn import metrics\n",
    "from sklearn.model_selection import train_test_split\n",
    "from sklearn.metrics import recall_score\n",
    "from sklearn.metrics import classification_report\n",
    "from sklearn.metrics import confusion_matrix\n",
    "from sklearn.tree import DecisionTreeClassifier\n",
    "from imblearn.combine import SMOTEENN\n",
    "from sklearn.preprocessing import LabelEncoder"
   ]
  },
  {
   "cell_type": "markdown",
   "id": "2524f5ea",
   "metadata": {},
   "source": [
    "Encoding the \"Gender\" Categorical Data"
   ]
  },
  {
   "cell_type": "code",
   "execution_count": 14,
   "id": "2c78a36e",
   "metadata": {},
   "outputs": [],
   "source": [
    "le=LabelEncoder()\n",
    "X[:,1]=le.fit_transform(X[:,1])"
   ]
  },
  {
   "cell_type": "code",
   "execution_count": 15,
   "id": "00b4d327",
   "metadata": {},
   "outputs": [
    {
     "name": "stdout",
     "output_type": "stream",
     "text": [
      "[[63 1 'Los Angeles' ... 236 1 5]\n",
      " [62 0 'New York' ... 172 0 1]\n",
      " [24 0 'Los Angeles' ... 460 0 5]\n",
      " ...\n",
      " [64 1 'Chicago' ... 251 1 5]\n",
      " [51 0 'New York' ... 434 1 8]\n",
      " [27 0 'Los Angeles' ... 173 1 7]]\n"
     ]
    }
   ],
   "source": [
    "print(X)"
   ]
  },
  {
   "cell_type": "markdown",
   "id": "050e1496",
   "metadata": {},
   "source": [
    "One Hot Encoding the \"Geography\" column"
   ]
  },
  {
   "cell_type": "code",
   "execution_count": 16,
   "id": "148b67f7",
   "metadata": {},
   "outputs": [],
   "source": [
    "from sklearn.compose import ColumnTransformer\n",
    "from sklearn.preprocessing import OneHotEncoder\n",
    "ct=ColumnTransformer(transformers=[('encoder',OneHotEncoder(),[1])],remainder='passthrough')\n",
    "X=np.array(ct.fit_transform(X))"
   ]
  },
  {
   "cell_type": "code",
   "execution_count": 17,
   "id": "42f83a2f",
   "metadata": {},
   "outputs": [
    {
     "name": "stdout",
     "output_type": "stream",
     "text": [
      "[[0.0 1.0 63 ... 236 1 5]\n",
      " [1.0 0.0 62 ... 172 0 1]\n",
      " [1.0 0.0 24 ... 460 0 5]\n",
      " ...\n",
      " [0.0 1.0 64 ... 251 1 5]\n",
      " [1.0 0.0 51 ... 434 1 8]\n",
      " [1.0 0.0 27 ... 173 1 7]]\n"
     ]
    }
   ],
   "source": [
    "print(X)"
   ]
  },
  {
   "cell_type": "code",
   "execution_count": 18,
   "id": "da17e6a1",
   "metadata": {},
   "outputs": [],
   "source": [
    "le=LabelEncoder()\n",
    "X[:,3]=le.fit_transform(X[:,3])"
   ]
  },
  {
   "cell_type": "code",
   "execution_count": 19,
   "id": "c2b93936",
   "metadata": {},
   "outputs": [
    {
     "name": "stdout",
     "output_type": "stream",
     "text": [
      "[1.0 0.0 36 3 3 97.94 293.82 297 0 3]\n"
     ]
    }
   ],
   "source": [
    "print(X[3,:])"
   ]
  },
  {
   "cell_type": "markdown",
   "id": "905e193e",
   "metadata": {},
   "source": [
    "## Splitting the Dataset"
   ]
  },
  {
   "cell_type": "code",
   "execution_count": 20,
   "id": "5353540d",
   "metadata": {},
   "outputs": [],
   "source": [
    "from sklearn.model_selection import train_test_split\n",
    "X_train,X_test,y_train,y_test=train_test_split(X,y,test_size=0.2,random_state=0)"
   ]
  },
  {
   "cell_type": "markdown",
   "id": "d54ddd4a",
   "metadata": {},
   "source": [
    "## Feature Scaling"
   ]
  },
  {
   "cell_type": "code",
   "execution_count": 21,
   "id": "2f8f06dd",
   "metadata": {},
   "outputs": [],
   "source": [
    "from sklearn.preprocessing import StandardScaler\n",
    "sc=StandardScaler()\n",
    "X_train=sc.fit_transform(X_train)\n",
    "X_test=sc.fit_transform(X_test)"
   ]
  },
  {
   "cell_type": "markdown",
   "id": "aaafb008",
   "metadata": {},
   "source": [
    "## Feature Engineering"
   ]
  },
  {
   "cell_type": "code",
   "execution_count": 2,
   "id": "9995fe59",
   "metadata": {},
   "outputs": [],
   "source": [
    "\n",
    "df = pd.read_csv('dataset.csv')\n",
    "df['Years'] = df['Subscription_Length_Months'].apply(lambda x:x//12)\n",
    "df['Month'] = df['Subscription_Length_Months'].apply(lambda x:x%12)"
   ]
  },
  {
   "cell_type": "code",
   "execution_count": null,
   "id": "f34e1927",
   "metadata": {},
   "outputs": [],
   "source": []
  },
  {
   "cell_type": "code",
   "execution_count": 3,
   "id": "9ea3519b",
   "metadata": {},
   "outputs": [
    {
     "data": {
      "text/html": [
       "<div>\n",
       "<style scoped>\n",
       "    .dataframe tbody tr th:only-of-type {\n",
       "        vertical-align: middle;\n",
       "    }\n",
       "\n",
       "    .dataframe tbody tr th {\n",
       "        vertical-align: top;\n",
       "    }\n",
       "\n",
       "    .dataframe thead th {\n",
       "        text-align: right;\n",
       "    }\n",
       "</style>\n",
       "<table border=\"1\" class=\"dataframe\">\n",
       "  <thead>\n",
       "    <tr style=\"text-align: right;\">\n",
       "      <th></th>\n",
       "      <th>CustomerID</th>\n",
       "      <th>Name</th>\n",
       "      <th>Age</th>\n",
       "      <th>Gender</th>\n",
       "      <th>Location</th>\n",
       "      <th>Subscription_Length_Months</th>\n",
       "      <th>Monthly_Bill</th>\n",
       "      <th>Total_Charges</th>\n",
       "      <th>Total_Usage_GB</th>\n",
       "      <th>Churn</th>\n",
       "      <th>Years</th>\n",
       "      <th>Month</th>\n",
       "    </tr>\n",
       "  </thead>\n",
       "  <tbody>\n",
       "    <tr>\n",
       "      <th>0</th>\n",
       "      <td>1</td>\n",
       "      <td>Customer_1</td>\n",
       "      <td>63</td>\n",
       "      <td>Male</td>\n",
       "      <td>Los Angeles</td>\n",
       "      <td>17</td>\n",
       "      <td>73.36</td>\n",
       "      <td>1247.12</td>\n",
       "      <td>236</td>\n",
       "      <td>0</td>\n",
       "      <td>1</td>\n",
       "      <td>5</td>\n",
       "    </tr>\n",
       "    <tr>\n",
       "      <th>1</th>\n",
       "      <td>2</td>\n",
       "      <td>Customer_2</td>\n",
       "      <td>62</td>\n",
       "      <td>Female</td>\n",
       "      <td>New York</td>\n",
       "      <td>1</td>\n",
       "      <td>48.76</td>\n",
       "      <td>48.76</td>\n",
       "      <td>172</td>\n",
       "      <td>0</td>\n",
       "      <td>0</td>\n",
       "      <td>1</td>\n",
       "    </tr>\n",
       "    <tr>\n",
       "      <th>2</th>\n",
       "      <td>3</td>\n",
       "      <td>Customer_3</td>\n",
       "      <td>24</td>\n",
       "      <td>Female</td>\n",
       "      <td>Los Angeles</td>\n",
       "      <td>5</td>\n",
       "      <td>85.47</td>\n",
       "      <td>427.35</td>\n",
       "      <td>460</td>\n",
       "      <td>0</td>\n",
       "      <td>0</td>\n",
       "      <td>5</td>\n",
       "    </tr>\n",
       "    <tr>\n",
       "      <th>3</th>\n",
       "      <td>4</td>\n",
       "      <td>Customer_4</td>\n",
       "      <td>36</td>\n",
       "      <td>Female</td>\n",
       "      <td>Miami</td>\n",
       "      <td>3</td>\n",
       "      <td>97.94</td>\n",
       "      <td>293.82</td>\n",
       "      <td>297</td>\n",
       "      <td>1</td>\n",
       "      <td>0</td>\n",
       "      <td>3</td>\n",
       "    </tr>\n",
       "    <tr>\n",
       "      <th>4</th>\n",
       "      <td>5</td>\n",
       "      <td>Customer_5</td>\n",
       "      <td>46</td>\n",
       "      <td>Female</td>\n",
       "      <td>Miami</td>\n",
       "      <td>19</td>\n",
       "      <td>58.14</td>\n",
       "      <td>1104.66</td>\n",
       "      <td>266</td>\n",
       "      <td>0</td>\n",
       "      <td>1</td>\n",
       "      <td>7</td>\n",
       "    </tr>\n",
       "  </tbody>\n",
       "</table>\n",
       "</div>"
      ],
      "text/plain": [
       "   CustomerID        Name  Age  Gender     Location  \\\n",
       "0           1  Customer_1   63    Male  Los Angeles   \n",
       "1           2  Customer_2   62  Female     New York   \n",
       "2           3  Customer_3   24  Female  Los Angeles   \n",
       "3           4  Customer_4   36  Female        Miami   \n",
       "4           5  Customer_5   46  Female        Miami   \n",
       "\n",
       "   Subscription_Length_Months  Monthly_Bill  Total_Charges  Total_Usage_GB  \\\n",
       "0                          17         73.36        1247.12             236   \n",
       "1                           1         48.76          48.76             172   \n",
       "2                           5         85.47         427.35             460   \n",
       "3                           3         97.94         293.82             297   \n",
       "4                          19         58.14        1104.66             266   \n",
       "\n",
       "   Churn  Years  Month  \n",
       "0      0      1      5  \n",
       "1      0      0      1  \n",
       "2      0      0      5  \n",
       "3      1      0      3  \n",
       "4      0      1      7  "
      ]
     },
     "execution_count": 3,
     "metadata": {},
     "output_type": "execute_result"
    }
   ],
   "source": [
    "df.head()"
   ]
  },
  {
   "cell_type": "code",
   "execution_count": 11,
   "id": "41c78d1b",
   "metadata": {},
   "outputs": [
    {
     "data": {
      "text/plain": [
       "0        1\n",
       "1        0\n",
       "2        0\n",
       "3        0\n",
       "4        1\n",
       "        ..\n",
       "99995    1\n",
       "99996    1\n",
       "99997    1\n",
       "99998    1\n",
       "99999    1\n",
       "Name: Churn, Length: 100000, dtype: int64"
      ]
     },
     "execution_count": 11,
     "metadata": {},
     "output_type": "execute_result"
    }
   ],
   "source": [
    "y=df.iloc[:,9]\n",
    "y"
   ]
  },
  {
   "cell_type": "code",
   "execution_count": 4,
   "id": "cc3725ba",
   "metadata": {},
   "outputs": [
    {
     "data": {
      "text/plain": [
       "0         5\n",
       "1         1\n",
       "2         5\n",
       "3         3\n",
       "4         7\n",
       "         ..\n",
       "99995    11\n",
       "99996     7\n",
       "99997     5\n",
       "99998     8\n",
       "99999     7\n",
       "Name: Month, Length: 100000, dtype: int64"
      ]
     },
     "execution_count": 4,
     "metadata": {},
     "output_type": "execute_result"
    }
   ],
   "source": [
    "T=df.iloc[:,11]\n",
    "T"
   ]
  },
  {
   "cell_type": "code",
   "execution_count": 5,
   "id": "5a161dad",
   "metadata": {},
   "outputs": [
    {
     "data": {
      "text/html": [
       "<div>\n",
       "<style scoped>\n",
       "    .dataframe tbody tr th:only-of-type {\n",
       "        vertical-align: middle;\n",
       "    }\n",
       "\n",
       "    .dataframe tbody tr th {\n",
       "        vertical-align: top;\n",
       "    }\n",
       "\n",
       "    .dataframe thead th {\n",
       "        text-align: right;\n",
       "    }\n",
       "</style>\n",
       "<table border=\"1\" class=\"dataframe\">\n",
       "  <thead>\n",
       "    <tr style=\"text-align: right;\">\n",
       "      <th></th>\n",
       "      <th>CustomerID</th>\n",
       "      <th>Name</th>\n",
       "      <th>Age</th>\n",
       "      <th>Gender</th>\n",
       "      <th>Location</th>\n",
       "      <th>Subscription_Length_Months</th>\n",
       "      <th>Monthly_Bill</th>\n",
       "      <th>Total_Charges</th>\n",
       "      <th>Total_Usage_GB</th>\n",
       "      <th>Churn</th>\n",
       "      <th>Years</th>\n",
       "      <th>Month</th>\n",
       "    </tr>\n",
       "  </thead>\n",
       "  <tbody>\n",
       "    <tr>\n",
       "      <th>0</th>\n",
       "      <td>1</td>\n",
       "      <td>Customer_1</td>\n",
       "      <td>63</td>\n",
       "      <td>Male</td>\n",
       "      <td>Los Angeles</td>\n",
       "      <td>17</td>\n",
       "      <td>73.36</td>\n",
       "      <td>1247.12</td>\n",
       "      <td>236</td>\n",
       "      <td>1</td>\n",
       "      <td>5</td>\n",
       "      <td>5</td>\n",
       "    </tr>\n",
       "    <tr>\n",
       "      <th>1</th>\n",
       "      <td>2</td>\n",
       "      <td>Customer_2</td>\n",
       "      <td>62</td>\n",
       "      <td>Female</td>\n",
       "      <td>New York</td>\n",
       "      <td>1</td>\n",
       "      <td>48.76</td>\n",
       "      <td>48.76</td>\n",
       "      <td>172</td>\n",
       "      <td>0</td>\n",
       "      <td>1</td>\n",
       "      <td>1</td>\n",
       "    </tr>\n",
       "    <tr>\n",
       "      <th>2</th>\n",
       "      <td>3</td>\n",
       "      <td>Customer_3</td>\n",
       "      <td>24</td>\n",
       "      <td>Female</td>\n",
       "      <td>Los Angeles</td>\n",
       "      <td>5</td>\n",
       "      <td>85.47</td>\n",
       "      <td>427.35</td>\n",
       "      <td>460</td>\n",
       "      <td>0</td>\n",
       "      <td>5</td>\n",
       "      <td>5</td>\n",
       "    </tr>\n",
       "    <tr>\n",
       "      <th>3</th>\n",
       "      <td>4</td>\n",
       "      <td>Customer_4</td>\n",
       "      <td>36</td>\n",
       "      <td>Female</td>\n",
       "      <td>Miami</td>\n",
       "      <td>3</td>\n",
       "      <td>97.94</td>\n",
       "      <td>293.82</td>\n",
       "      <td>297</td>\n",
       "      <td>0</td>\n",
       "      <td>3</td>\n",
       "      <td>3</td>\n",
       "    </tr>\n",
       "    <tr>\n",
       "      <th>4</th>\n",
       "      <td>5</td>\n",
       "      <td>Customer_5</td>\n",
       "      <td>46</td>\n",
       "      <td>Female</td>\n",
       "      <td>Miami</td>\n",
       "      <td>19</td>\n",
       "      <td>58.14</td>\n",
       "      <td>1104.66</td>\n",
       "      <td>266</td>\n",
       "      <td>1</td>\n",
       "      <td>7</td>\n",
       "      <td>7</td>\n",
       "    </tr>\n",
       "  </tbody>\n",
       "</table>\n",
       "</div>"
      ],
      "text/plain": [
       "   CustomerID        Name  Age  Gender     Location  \\\n",
       "0           1  Customer_1   63    Male  Los Angeles   \n",
       "1           2  Customer_2   62  Female     New York   \n",
       "2           3  Customer_3   24  Female  Los Angeles   \n",
       "3           4  Customer_4   36  Female        Miami   \n",
       "4           5  Customer_5   46  Female        Miami   \n",
       "\n",
       "   Subscription_Length_Months  Monthly_Bill  Total_Charges  Total_Usage_GB  \\\n",
       "0                          17         73.36        1247.12             236   \n",
       "1                           1         48.76          48.76             172   \n",
       "2                           5         85.47         427.35             460   \n",
       "3                           3         97.94         293.82             297   \n",
       "4                          19         58.14        1104.66             266   \n",
       "\n",
       "   Churn  Years  Month  \n",
       "0      1      5      5  \n",
       "1      0      1      1  \n",
       "2      0      5      5  \n",
       "3      0      3      3  \n",
       "4      1      7      7  "
      ]
     },
     "execution_count": 5,
     "metadata": {},
     "output_type": "execute_result"
    }
   ],
   "source": [
    "df.iloc[:,9]=df.iloc[:,10]\n",
    "df.iloc[:,10]=df.iloc[:,11]\n",
    "df.head()\n",
    "#X=df.iloc[:,2:9].values\n",
    "#y=df.iloc[:,9].values"
   ]
  },
  {
   "cell_type": "code",
   "execution_count": 7,
   "id": "d272c786",
   "metadata": {},
   "outputs": [],
   "source": [
    "X=df.iloc[:,2:-1].values"
   ]
  },
  {
   "cell_type": "code",
   "execution_count": 8,
   "id": "332b98df",
   "metadata": {},
   "outputs": [
    {
     "data": {
      "text/plain": [
       "(100000, 9)"
      ]
     },
     "execution_count": 8,
     "metadata": {},
     "output_type": "execute_result"
    }
   ],
   "source": [
    "X.shape"
   ]
  },
  {
   "cell_type": "code",
   "execution_count": 9,
   "id": "26e05a40",
   "metadata": {},
   "outputs": [
    {
     "data": {
      "text/plain": [
       "array([[62, 'Female', 'New York', 1, 48.76, 48.76, 172, 0, 1],\n",
       "       [24, 'Female', 'Los Angeles', 5, 85.47, 427.35, 460, 0, 5],\n",
       "       [36, 'Female', 'Miami', 3, 97.94, 293.82, 297, 0, 3],\n",
       "       [46, 'Female', 'Miami', 19, 58.14, 1104.66, 266, 1, 7]],\n",
       "      dtype=object)"
      ]
     },
     "execution_count": 9,
     "metadata": {},
     "output_type": "execute_result"
    }
   ],
   "source": [
    "X[1:5,:]"
   ]
  },
  {
   "cell_type": "code",
   "execution_count": 12,
   "id": "03500776",
   "metadata": {},
   "outputs": [
    {
     "data": {
      "text/plain": [
       "0        1\n",
       "1        0\n",
       "2        0\n",
       "3        0\n",
       "4        1\n",
       "        ..\n",
       "99995    1\n",
       "99996    1\n",
       "99997    1\n",
       "99998    1\n",
       "99999    1\n",
       "Name: Churn, Length: 100000, dtype: int64"
      ]
     },
     "execution_count": 12,
     "metadata": {},
     "output_type": "execute_result"
    }
   ],
   "source": [
    "y"
   ]
  },
  {
   "cell_type": "markdown",
   "id": "61ba0a2c",
   "metadata": {},
   "source": [
    "# Building an ANN"
   ]
  },
  {
   "cell_type": "markdown",
   "id": "d1e7322f",
   "metadata": {},
   "source": [
    "## Initializing the ANN"
   ]
  },
  {
   "cell_type": "code",
   "execution_count": 22,
   "id": "7e0b7953",
   "metadata": {},
   "outputs": [],
   "source": [
    "ann=tf.keras.models.Sequential()"
   ]
  },
  {
   "cell_type": "markdown",
   "id": "6ad363eb",
   "metadata": {},
   "source": [
    "## Adding Layers"
   ]
  },
  {
   "cell_type": "code",
   "execution_count": 23,
   "id": "e8156976",
   "metadata": {},
   "outputs": [],
   "source": [
    "from tensorflow.python.keras import regularizers\n",
    "ann.add(tf.keras.layers.Dense(units=9 ,activation='relu', kernel_regularizer=regularizers.l1_l2(l1=0, l2=0.01)))"
   ]
  },
  {
   "cell_type": "code",
   "execution_count": 24,
   "id": "5afdb5e5",
   "metadata": {},
   "outputs": [],
   "source": [
    "ann.add(tf.keras.layers.Dense(units=6 ,activation='relu'))"
   ]
  },
  {
   "cell_type": "code",
   "execution_count": 25,
   "id": "1b81da18",
   "metadata": {},
   "outputs": [],
   "source": [
    "ann.add(tf.keras.layers.Dense(units=1 ,activation='sigmoid'))"
   ]
  },
  {
   "cell_type": "markdown",
   "id": "954deb31",
   "metadata": {},
   "source": [
    "## Compiling the ANN"
   ]
  },
  {
   "cell_type": "code",
   "execution_count": 26,
   "id": "5931b016",
   "metadata": {},
   "outputs": [],
   "source": [
    "ann.compile(optimizer='adam',loss='mean_squared_error',metrics=['accuracy'])"
   ]
  },
  {
   "cell_type": "markdown",
   "id": "2216be8f",
   "metadata": {},
   "source": [
    "## Training the ANN on the Training set"
   ]
  },
  {
   "cell_type": "code",
   "execution_count": 30,
   "id": "3ae27919",
   "metadata": {},
   "outputs": [
    {
     "name": "stdout",
     "output_type": "stream",
     "text": [
      "Epoch 1/200\n",
      "2500/2500 [==============================] - 10s 3ms/step - loss: 0.0687 - accuracy: 0.9547\n",
      "Epoch 2/200\n",
      "2500/2500 [==============================] - 7s 3ms/step - loss: 0.0430 - accuracy: 0.9581\n",
      "Epoch 3/200\n",
      "2500/2500 [==============================] - 7s 3ms/step - loss: 0.0424 - accuracy: 0.9581\n",
      "Epoch 4/200\n",
      "2500/2500 [==============================] - 7s 3ms/step - loss: 0.0421 - accuracy: 0.9581\n",
      "Epoch 5/200\n",
      "2500/2500 [==============================] - 7s 3ms/step - loss: 0.0420 - accuracy: 0.9581\n",
      "Epoch 6/200\n",
      "2500/2500 [==============================] - 8s 3ms/step - loss: 0.0420 - accuracy: 0.9581\n",
      "Epoch 7/200\n",
      "2500/2500 [==============================] - 6s 3ms/step - loss: 0.0419 - accuracy: 0.9581\n",
      "Epoch 8/200\n",
      "2500/2500 [==============================] - 7s 3ms/step - loss: 0.0421 - accuracy: 0.9581\n",
      "Epoch 9/200\n",
      "2500/2500 [==============================] - 6s 3ms/step - loss: 0.0419 - accuracy: 0.9581\n",
      "Epoch 10/200\n",
      "2500/2500 [==============================] - 7s 3ms/step - loss: 0.0419 - accuracy: 0.9581\n",
      "Epoch 11/200\n",
      "2500/2500 [==============================] - 6s 3ms/step - loss: 0.0419 - accuracy: 0.9581\n",
      "Epoch 12/200\n",
      "2500/2500 [==============================] - 7s 3ms/step - loss: 0.0421 - accuracy: 0.9581\n",
      "Epoch 13/200\n",
      "2500/2500 [==============================] - 6s 3ms/step - loss: 0.0419 - accuracy: 0.9581\n",
      "Epoch 14/200\n",
      "2500/2500 [==============================] - 6s 3ms/step - loss: 0.0419 - accuracy: 0.9581\n",
      "Epoch 15/200\n",
      "2500/2500 [==============================] - 8s 3ms/step - loss: 0.0419 - accuracy: 0.9581\n",
      "Epoch 16/200\n",
      "2500/2500 [==============================] - 6s 2ms/step - loss: 0.0421 - accuracy: 0.9580\n",
      "Epoch 17/200\n",
      "2500/2500 [==============================] - 6s 2ms/step - loss: 0.0422 - accuracy: 0.9581\n",
      "Epoch 18/200\n",
      "2500/2500 [==============================] - 6s 2ms/step - loss: 0.0419 - accuracy: 0.9581\n",
      "Epoch 19/200\n",
      "2500/2500 [==============================] - 6s 2ms/step - loss: 0.0419 - accuracy: 0.9581\n",
      "Epoch 20/200\n",
      "2500/2500 [==============================] - 6s 2ms/step - loss: 0.0419 - accuracy: 0.9581\n",
      "Epoch 21/200\n",
      "2500/2500 [==============================] - 6s 2ms/step - loss: 0.0419 - accuracy: 0.9581\n",
      "Epoch 22/200\n",
      "2500/2500 [==============================] - 6s 2ms/step - loss: 0.0423 - accuracy: 0.9580\n",
      "Epoch 23/200\n",
      "2500/2500 [==============================] - 6s 2ms/step - loss: 0.0420 - accuracy: 0.9581\n",
      "Epoch 24/200\n",
      "2500/2500 [==============================] - 6s 2ms/step - loss: 0.0419 - accuracy: 0.9581\n",
      "Epoch 25/200\n",
      "2500/2500 [==============================] - 6s 2ms/step - loss: 0.0419 - accuracy: 0.9581\n",
      "Epoch 26/200\n",
      "2500/2500 [==============================] - 6s 2ms/step - loss: 0.0419 - accuracy: 0.9581\n",
      "Epoch 27/200\n",
      "2500/2500 [==============================] - 6s 2ms/step - loss: 0.0421 - accuracy: 0.9581\n",
      "Epoch 28/200\n",
      "2500/2500 [==============================] - 6s 2ms/step - loss: 0.0420 - accuracy: 0.9581\n",
      "Epoch 29/200\n",
      "2500/2500 [==============================] - 6s 2ms/step - loss: 0.0419 - accuracy: 0.9581\n",
      "Epoch 30/200\n",
      "2500/2500 [==============================] - 6s 2ms/step - loss: 0.0419 - accuracy: 0.9581\n",
      "Epoch 31/200\n",
      "2500/2500 [==============================] - 6s 2ms/step - loss: 0.0419 - accuracy: 0.9581\n",
      "Epoch 32/200\n",
      "2500/2500 [==============================] - 6s 2ms/step - loss: 0.0420 - accuracy: 0.9581\n",
      "Epoch 33/200\n",
      "2500/2500 [==============================] - 6s 2ms/step - loss: 0.0419 - accuracy: 0.9581\n",
      "Epoch 34/200\n",
      "2500/2500 [==============================] - 6s 3ms/step - loss: 0.0419 - accuracy: 0.9581\n",
      "Epoch 35/200\n",
      "2500/2500 [==============================] - 6s 2ms/step - loss: 0.0419 - accuracy: 0.9581\n",
      "Epoch 36/200\n",
      "2500/2500 [==============================] - 6s 2ms/step - loss: 0.0419 - accuracy: 0.9581\n",
      "Epoch 37/200\n",
      "2500/2500 [==============================] - 6s 2ms/step - loss: 0.0422 - accuracy: 0.9580\n",
      "Epoch 38/200\n",
      "2500/2500 [==============================] - 6s 2ms/step - loss: 0.0419 - accuracy: 0.9581\n",
      "Epoch 39/200\n",
      "2500/2500 [==============================] - 6s 2ms/step - loss: 0.0419 - accuracy: 0.9581\n",
      "Epoch 40/200\n",
      "2500/2500 [==============================] - 6s 2ms/step - loss: 0.0419 - accuracy: 0.9581\n",
      "Epoch 41/200\n",
      "2500/2500 [==============================] - 6s 2ms/step - loss: 0.0419 - accuracy: 0.9581\n",
      "Epoch 42/200\n",
      "2500/2500 [==============================] - 6s 2ms/step - loss: 0.0422 - accuracy: 0.9580\n",
      "Epoch 43/200\n",
      "2500/2500 [==============================] - 6s 2ms/step - loss: 0.0420 - accuracy: 0.9581\n",
      "Epoch 44/200\n",
      "2500/2500 [==============================] - 6s 2ms/step - loss: 0.0419 - accuracy: 0.9581\n",
      "Epoch 45/200\n",
      "2500/2500 [==============================] - 6s 2ms/step - loss: 0.0419 - accuracy: 0.9581\n",
      "Epoch 46/200\n",
      "2500/2500 [==============================] - 6s 2ms/step - loss: 0.0419 - accuracy: 0.9581\n",
      "Epoch 47/200\n",
      "2500/2500 [==============================] - 6s 2ms/step - loss: 0.0422 - accuracy: 0.9578\n",
      "Epoch 48/200\n",
      "2500/2500 [==============================] - 6s 2ms/step - loss: 0.0422 - accuracy: 0.9581\n",
      "Epoch 49/200\n",
      "2500/2500 [==============================] - 6s 2ms/step - loss: 0.0419 - accuracy: 0.9581\n",
      "Epoch 50/200\n",
      "2500/2500 [==============================] - 6s 2ms/step - loss: 0.0419 - accuracy: 0.9581\n",
      "Epoch 51/200\n",
      "2500/2500 [==============================] - 6s 2ms/step - loss: 0.0419 - accuracy: 0.9581\n",
      "Epoch 52/200\n",
      "2500/2500 [==============================] - 6s 2ms/step - loss: 0.0419 - accuracy: 0.9581\n",
      "Epoch 53/200\n",
      "2500/2500 [==============================] - 6s 2ms/step - loss: 0.0422 - accuracy: 0.9581\n",
      "Epoch 54/200\n",
      "2500/2500 [==============================] - 6s 2ms/step - loss: 0.0420 - accuracy: 0.9581\n",
      "Epoch 55/200\n",
      "2500/2500 [==============================] - 6s 2ms/step - loss: 0.0419 - accuracy: 0.9581\n",
      "Epoch 56/200\n",
      "2500/2500 [==============================] - 6s 2ms/step - loss: 0.0419 - accuracy: 0.9581\n",
      "Epoch 57/200\n",
      "2500/2500 [==============================] - 6s 2ms/step - loss: 0.0419 - accuracy: 0.9581\n",
      "Epoch 58/200\n",
      "2500/2500 [==============================] - 6s 2ms/step - loss: 0.0422 - accuracy: 0.9580\n",
      "Epoch 59/200\n",
      "2500/2500 [==============================] - 6s 2ms/step - loss: 0.0420 - accuracy: 0.9581\n",
      "Epoch 60/200\n",
      "2500/2500 [==============================] - 6s 2ms/step - loss: 0.0419 - accuracy: 0.9581\n",
      "Epoch 61/200\n",
      "2500/2500 [==============================] - 6s 2ms/step - loss: 0.0419 - accuracy: 0.9581\n",
      "Epoch 62/200\n",
      "2500/2500 [==============================] - 6s 2ms/step - loss: 0.0419 - accuracy: 0.9581\n",
      "Epoch 63/200\n",
      "2500/2500 [==============================] - 6s 2ms/step - loss: 0.0420 - accuracy: 0.9580\n",
      "Epoch 64/200\n",
      "2500/2500 [==============================] - 6s 2ms/step - loss: 0.0419 - accuracy: 0.9581\n",
      "Epoch 65/200\n",
      "2500/2500 [==============================] - 6s 2ms/step - loss: 0.0419 - accuracy: 0.9581\n",
      "Epoch 66/200\n",
      "2500/2500 [==============================] - 6s 2ms/step - loss: 0.0419 - accuracy: 0.9581\n",
      "Epoch 67/200\n",
      "2500/2500 [==============================] - 6s 2ms/step - loss: 0.0421 - accuracy: 0.9579\n",
      "Epoch 68/200\n",
      "2500/2500 [==============================] - 6s 2ms/step - loss: 0.0424 - accuracy: 0.9580\n",
      "Epoch 69/200\n",
      "2500/2500 [==============================] - 6s 2ms/step - loss: 0.0420 - accuracy: 0.9581\n",
      "Epoch 70/200\n",
      "2500/2500 [==============================] - 6s 2ms/step - loss: 0.0419 - accuracy: 0.9581\n",
      "Epoch 71/200\n",
      "2500/2500 [==============================] - 6s 2ms/step - loss: 0.0419 - accuracy: 0.9581\n",
      "Epoch 72/200\n",
      "2500/2500 [==============================] - 6s 2ms/step - loss: 0.0419 - accuracy: 0.9581\n",
      "Epoch 73/200\n",
      "2500/2500 [==============================] - 6s 2ms/step - loss: 0.0422 - accuracy: 0.9579\n",
      "Epoch 74/200\n",
      "2500/2500 [==============================] - 6s 2ms/step - loss: 0.0422 - accuracy: 0.9581\n",
      "Epoch 75/200\n",
      "2500/2500 [==============================] - 6s 2ms/step - loss: 0.0419 - accuracy: 0.9581\n",
      "Epoch 76/200\n",
      "2500/2500 [==============================] - 6s 2ms/step - loss: 0.0419 - accuracy: 0.9581\n",
      "Epoch 77/200\n",
      "2500/2500 [==============================] - 6s 2ms/step - loss: 0.0419 - accuracy: 0.9581\n",
      "Epoch 78/200\n",
      "2500/2500 [==============================] - 6s 2ms/step - loss: 0.0419 - accuracy: 0.9581\n",
      "Epoch 79/200\n"
     ]
    },
    {
     "name": "stdout",
     "output_type": "stream",
     "text": [
      "2500/2500 [==============================] - 6s 2ms/step - loss: 0.0422 - accuracy: 0.9580\n",
      "Epoch 80/200\n",
      "2500/2500 [==============================] - 6s 2ms/step - loss: 0.0419 - accuracy: 0.9581\n",
      "Epoch 81/200\n",
      "2500/2500 [==============================] - 6s 2ms/step - loss: 0.0419 - accuracy: 0.9581\n",
      "Epoch 82/200\n",
      "2500/2500 [==============================] - 6s 2ms/step - loss: 0.0419 - accuracy: 0.9581\n",
      "Epoch 83/200\n",
      "2500/2500 [==============================] - 6s 2ms/step - loss: 0.0419 - accuracy: 0.9581\n",
      "Epoch 84/200\n",
      "2500/2500 [==============================] - 6s 2ms/step - loss: 0.0424 - accuracy: 0.9579\n",
      "Epoch 85/200\n",
      "2500/2500 [==============================] - 6s 2ms/step - loss: 0.0421 - accuracy: 0.9581\n",
      "Epoch 86/200\n",
      "2500/2500 [==============================] - 6s 2ms/step - loss: 0.0419 - accuracy: 0.9581\n",
      "Epoch 87/200\n",
      "2500/2500 [==============================] - 6s 2ms/step - loss: 0.0419 - accuracy: 0.9581\n",
      "Epoch 88/200\n",
      "2500/2500 [==============================] - 6s 2ms/step - loss: 0.0419 - accuracy: 0.9581\n",
      "Epoch 89/200\n",
      "2500/2500 [==============================] - 6s 2ms/step - loss: 0.0419 - accuracy: 0.9581\n",
      "Epoch 90/200\n",
      "2500/2500 [==============================] - 6s 2ms/step - loss: 0.0424 - accuracy: 0.9580\n",
      "Epoch 91/200\n",
      "2500/2500 [==============================] - 6s 2ms/step - loss: 0.0420 - accuracy: 0.9581\n",
      "Epoch 92/200\n",
      "2500/2500 [==============================] - 6s 2ms/step - loss: 0.0419 - accuracy: 0.9581\n",
      "Epoch 93/200\n",
      "2500/2500 [==============================] - 6s 2ms/step - loss: 0.0419 - accuracy: 0.9581\n",
      "Epoch 94/200\n",
      "2500/2500 [==============================] - 6s 2ms/step - loss: 0.0419 - accuracy: 0.9581\n",
      "Epoch 95/200\n",
      "2500/2500 [==============================] - 6s 2ms/step - loss: 0.0423 - accuracy: 0.9580\n",
      "Epoch 96/200\n",
      "2500/2500 [==============================] - 6s 2ms/step - loss: 0.0422 - accuracy: 0.9580\n",
      "Epoch 97/200\n",
      "2500/2500 [==============================] - 6s 2ms/step - loss: 0.0419 - accuracy: 0.9581\n",
      "Epoch 98/200\n",
      "2500/2500 [==============================] - 6s 2ms/step - loss: 0.0419 - accuracy: 0.9581\n",
      "Epoch 99/200\n",
      "2500/2500 [==============================] - 6s 2ms/step - loss: 0.0419 - accuracy: 0.9581\n",
      "Epoch 100/200\n",
      "2500/2500 [==============================] - 6s 2ms/step - loss: 0.0419 - accuracy: 0.9581\n",
      "Epoch 101/200\n",
      "2500/2500 [==============================] - 6s 2ms/step - loss: 0.0424 - accuracy: 0.9579\n",
      "Epoch 102/200\n",
      "2500/2500 [==============================] - 6s 2ms/step - loss: 0.0420 - accuracy: 0.9581\n",
      "Epoch 103/200\n",
      "2500/2500 [==============================] - 6s 2ms/step - loss: 0.0419 - accuracy: 0.9581\n",
      "Epoch 104/200\n",
      "2500/2500 [==============================] - 6s 2ms/step - loss: 0.0419 - accuracy: 0.9581\n",
      "Epoch 105/200\n",
      "2500/2500 [==============================] - 6s 2ms/step - loss: 0.0419 - accuracy: 0.9581\n",
      "Epoch 106/200\n",
      "2500/2500 [==============================] - 6s 2ms/step - loss: 0.0421 - accuracy: 0.9580\n",
      "Epoch 107/200\n",
      "2500/2500 [==============================] - 6s 2ms/step - loss: 0.0426 - accuracy: 0.9580\n",
      "Epoch 108/200\n",
      "2500/2500 [==============================] - 6s 2ms/step - loss: 0.0421 - accuracy: 0.9581\n",
      "Epoch 109/200\n",
      "2500/2500 [==============================] - 6s 2ms/step - loss: 0.0419 - accuracy: 0.9581\n",
      "Epoch 110/200\n",
      "2500/2500 [==============================] - 6s 2ms/step - loss: 0.0419 - accuracy: 0.9581\n",
      "Epoch 111/200\n",
      "2500/2500 [==============================] - 6s 2ms/step - loss: 0.0419 - accuracy: 0.9581\n",
      "Epoch 112/200\n",
      "2500/2500 [==============================] - 6s 2ms/step - loss: 0.0419 - accuracy: 0.9581\n",
      "Epoch 113/200\n",
      "2500/2500 [==============================] - 6s 2ms/step - loss: 0.0425 - accuracy: 0.9579\n",
      "Epoch 114/200\n",
      "2500/2500 [==============================] - 6s 2ms/step - loss: 0.0423 - accuracy: 0.9579\n",
      "Epoch 115/200\n",
      "2500/2500 [==============================] - 6s 2ms/step - loss: 0.0422 - accuracy: 0.9581\n",
      "Epoch 116/200\n",
      "2500/2500 [==============================] - 6s 2ms/step - loss: 0.0419 - accuracy: 0.9581\n",
      "Epoch 117/200\n",
      "2500/2500 [==============================] - 6s 2ms/step - loss: 0.0419 - accuracy: 0.9581\n",
      "Epoch 118/200\n",
      "2500/2500 [==============================] - 6s 2ms/step - loss: 0.0419 - accuracy: 0.9581\n",
      "Epoch 119/200\n",
      "2500/2500 [==============================] - 6s 2ms/step - loss: 0.0419 - accuracy: 0.9581\n",
      "Epoch 120/200\n",
      "2500/2500 [==============================] - 6s 2ms/step - loss: 0.0422 - accuracy: 0.9580\n",
      "Epoch 121/200\n",
      "2500/2500 [==============================] - 6s 2ms/step - loss: 0.0421 - accuracy: 0.9581\n",
      "Epoch 122/200\n",
      "2500/2500 [==============================] - 6s 2ms/step - loss: 0.0419 - accuracy: 0.9581\n",
      "Epoch 123/200\n",
      "2500/2500 [==============================] - 6s 2ms/step - loss: 0.0419 - accuracy: 0.9581\n",
      "Epoch 124/200\n",
      "2500/2500 [==============================] - 6s 2ms/step - loss: 0.0419 - accuracy: 0.9581\n",
      "Epoch 125/200\n",
      "2500/2500 [==============================] - 6s 2ms/step - loss: 0.0419 - accuracy: 0.9581\n",
      "Epoch 126/200\n",
      "2500/2500 [==============================] - 6s 3ms/step - loss: 0.0429 - accuracy: 0.9576\n",
      "Epoch 127/200\n",
      "2500/2500 [==============================] - 6s 2ms/step - loss: 0.0421 - accuracy: 0.9581\n",
      "Epoch 128/200\n",
      "2500/2500 [==============================] - 6s 2ms/step - loss: 0.0419 - accuracy: 0.9581\n",
      "Epoch 129/200\n",
      "2500/2500 [==============================] - 6s 2ms/step - loss: 0.0419 - accuracy: 0.9581\n",
      "Epoch 130/200\n",
      "2500/2500 [==============================] - 6s 2ms/step - loss: 0.0419 - accuracy: 0.9581\n",
      "Epoch 131/200\n",
      "2500/2500 [==============================] - 6s 2ms/step - loss: 0.0419 - accuracy: 0.9581\n",
      "Epoch 132/200\n",
      "2500/2500 [==============================] - 6s 2ms/step - loss: 0.0425 - accuracy: 0.9578\n",
      "Epoch 133/200\n",
      "2500/2500 [==============================] - 6s 2ms/step - loss: 0.0420 - accuracy: 0.9581\n",
      "Epoch 134/200\n",
      "2500/2500 [==============================] - 6s 2ms/step - loss: 0.0419 - accuracy: 0.9581\n",
      "Epoch 135/200\n",
      "2500/2500 [==============================] - 6s 2ms/step - loss: 0.0419 - accuracy: 0.9581\n",
      "Epoch 136/200\n",
      "2500/2500 [==============================] - 6s 2ms/step - loss: 0.0419 - accuracy: 0.9581\n",
      "Epoch 137/200\n",
      "2500/2500 [==============================] - 6s 2ms/step - loss: 0.0422 - accuracy: 0.9579\n",
      "Epoch 138/200\n",
      "2500/2500 [==============================] - 6s 2ms/step - loss: 0.0424 - accuracy: 0.9581\n",
      "Epoch 139/200\n",
      "2500/2500 [==============================] - 6s 2ms/step - loss: 0.0422 - accuracy: 0.9581\n",
      "Epoch 140/200\n",
      "2500/2500 [==============================] - 6s 2ms/step - loss: 0.0423 - accuracy: 0.9581\n",
      "Epoch 141/200\n",
      "2500/2500 [==============================] - 6s 2ms/step - loss: 0.0419 - accuracy: 0.9581\n",
      "Epoch 142/200\n",
      "2500/2500 [==============================] - 8s 3ms/step - loss: 0.0419 - accuracy: 0.9581\n",
      "Epoch 143/200\n",
      "2500/2500 [==============================] - 9s 3ms/step - loss: 0.0419 - accuracy: 0.9581\n",
      "Epoch 144/200\n",
      "2500/2500 [==============================] - 8s 3ms/step - loss: 0.0419 - accuracy: 0.9581\n",
      "Epoch 145/200\n",
      "2500/2500 [==============================] - 6s 3ms/step - loss: 0.0425 - accuracy: 0.9578\n",
      "Epoch 146/200\n",
      "2500/2500 [==============================] - 8s 3ms/step - loss: 0.0425 - accuracy: 0.9579\n",
      "Epoch 147/200\n",
      "2500/2500 [==============================] - 8s 3ms/step - loss: 0.0421 - accuracy: 0.9581\n",
      "Epoch 148/200\n",
      "2500/2500 [==============================] - 7s 3ms/step - loss: 0.0419 - accuracy: 0.9581\n",
      "Epoch 149/200\n",
      "2500/2500 [==============================] - 7s 3ms/step - loss: 0.0419 - accuracy: 0.9581\n",
      "Epoch 150/200\n",
      "2500/2500 [==============================] - 7s 3ms/step - loss: 0.0419 - accuracy: 0.9581\n",
      "Epoch 151/200\n",
      "2500/2500 [==============================] - 6s 2ms/step - loss: 0.0423 - accuracy: 0.9579\n",
      "Epoch 152/200\n",
      "2500/2500 [==============================] - 7s 3ms/step - loss: 0.0423 - accuracy: 0.9581\n",
      "Epoch 153/200\n",
      "2500/2500 [==============================] - 7s 3ms/step - loss: 0.0420 - accuracy: 0.9581\n",
      "Epoch 154/200\n",
      "2500/2500 [==============================] - 7s 3ms/step - loss: 0.0419 - accuracy: 0.9581\n",
      "Epoch 155/200\n",
      "2500/2500 [==============================] - 7s 3ms/step - loss: 0.0419 - accuracy: 0.9581\n",
      "Epoch 156/200\n",
      "2500/2500 [==============================] - 6s 2ms/step - loss: 0.0419 - accuracy: 0.9581\n",
      "Epoch 157/200\n"
     ]
    },
    {
     "name": "stdout",
     "output_type": "stream",
     "text": [
      "2500/2500 [==============================] - 6s 2ms/step - loss: 0.0422 - accuracy: 0.9580\n",
      "Epoch 158/200\n",
      "2500/2500 [==============================] - 6s 2ms/step - loss: 0.0424 - accuracy: 0.9580\n",
      "Epoch 159/200\n",
      "2500/2500 [==============================] - 6s 2ms/step - loss: 0.0421 - accuracy: 0.9581\n",
      "Epoch 160/200\n",
      "2500/2500 [==============================] - 6s 2ms/step - loss: 0.0424 - accuracy: 0.9580\n",
      "Epoch 161/200\n",
      "2500/2500 [==============================] - 6s 2ms/step - loss: 0.0420 - accuracy: 0.9581\n",
      "Epoch 162/200\n",
      "2500/2500 [==============================] - 6s 2ms/step - loss: 0.0419 - accuracy: 0.9581\n",
      "Epoch 163/200\n",
      "2500/2500 [==============================] - 6s 2ms/step - loss: 0.0419 - accuracy: 0.9581\n",
      "Epoch 164/200\n",
      "2500/2500 [==============================] - 6s 2ms/step - loss: 0.0419 - accuracy: 0.9581\n",
      "Epoch 165/200\n",
      "2500/2500 [==============================] - 6s 2ms/step - loss: 0.0423 - accuracy: 0.9580\n",
      "Epoch 166/200\n",
      "2500/2500 [==============================] - 6s 2ms/step - loss: 0.0423 - accuracy: 0.9580\n",
      "Epoch 167/200\n",
      "2500/2500 [==============================] - 6s 2ms/step - loss: 0.0423 - accuracy: 0.9581\n",
      "Epoch 168/200\n",
      "2500/2500 [==============================] - 6s 2ms/step - loss: 0.0425 - accuracy: 0.9579\n",
      "Epoch 169/200\n",
      "2500/2500 [==============================] - 6s 2ms/step - loss: 0.0420 - accuracy: 0.9581\n",
      "Epoch 170/200\n",
      "2500/2500 [==============================] - 6s 2ms/step - loss: 0.0419 - accuracy: 0.9581\n",
      "Epoch 171/200\n",
      "2500/2500 [==============================] - 6s 2ms/step - loss: 0.0419 - accuracy: 0.9581\n",
      "Epoch 172/200\n",
      "2500/2500 [==============================] - 6s 2ms/step - loss: 0.0419 - accuracy: 0.9581\n",
      "Epoch 173/200\n",
      "2500/2500 [==============================] - 6s 2ms/step - loss: 0.0422 - accuracy: 0.9579\n",
      "Epoch 174/200\n",
      "2500/2500 [==============================] - 6s 2ms/step - loss: 0.0424 - accuracy: 0.9581\n",
      "Epoch 175/200\n",
      "2500/2500 [==============================] - 6s 2ms/step - loss: 0.0420 - accuracy: 0.9581\n",
      "Epoch 176/200\n",
      "2500/2500 [==============================] - 6s 2ms/step - loss: 0.0419 - accuracy: 0.9581\n",
      "Epoch 177/200\n",
      "2500/2500 [==============================] - 6s 2ms/step - loss: 0.0419 - accuracy: 0.9581\n",
      "Epoch 178/200\n",
      "2500/2500 [==============================] - 6s 2ms/step - loss: 0.0419 - accuracy: 0.9581\n",
      "Epoch 179/200\n",
      "2500/2500 [==============================] - 6s 2ms/step - loss: 0.0424 - accuracy: 0.9578\n",
      "Epoch 180/200\n",
      "2500/2500 [==============================] - 6s 2ms/step - loss: 0.0422 - accuracy: 0.9581\n",
      "Epoch 181/200\n",
      "2500/2500 [==============================] - 6s 2ms/step - loss: 0.0419 - accuracy: 0.9581\n",
      "Epoch 182/200\n",
      "2500/2500 [==============================] - 6s 2ms/step - loss: 0.0419 - accuracy: 0.9581\n",
      "Epoch 183/200\n",
      "2500/2500 [==============================] - 6s 2ms/step - loss: 0.0419 - accuracy: 0.9581\n",
      "Epoch 184/200\n",
      "2500/2500 [==============================] - 6s 2ms/step - loss: 0.0419 - accuracy: 0.9581\n",
      "Epoch 185/200\n",
      "2500/2500 [==============================] - 6s 2ms/step - loss: 0.0422 - accuracy: 0.9579\n",
      "Epoch 186/200\n",
      "2500/2500 [==============================] - 6s 2ms/step - loss: 0.0424 - accuracy: 0.9581\n",
      "Epoch 187/200\n",
      "2500/2500 [==============================] - 6s 2ms/step - loss: 0.0428 - accuracy: 0.9577\n",
      "Epoch 188/200\n",
      "2500/2500 [==============================] - 6s 2ms/step - loss: 0.0421 - accuracy: 0.9581\n",
      "Epoch 189/200\n",
      "2500/2500 [==============================] - 6s 2ms/step - loss: 0.0419 - accuracy: 0.9581\n",
      "Epoch 190/200\n",
      "2500/2500 [==============================] - 6s 2ms/step - loss: 0.0419 - accuracy: 0.9581\n",
      "Epoch 191/200\n",
      "2500/2500 [==============================] - 6s 2ms/step - loss: 0.0419 - accuracy: 0.9581\n",
      "Epoch 192/200\n",
      "2500/2500 [==============================] - 6s 2ms/step - loss: 0.0425 - accuracy: 0.9575\n",
      "Epoch 193/200\n",
      "2500/2500 [==============================] - 6s 2ms/step - loss: 0.0425 - accuracy: 0.9581\n",
      "Epoch 194/200\n",
      "2500/2500 [==============================] - 6s 2ms/step - loss: 0.0421 - accuracy: 0.9581\n",
      "Epoch 195/200\n",
      "2500/2500 [==============================] - 6s 2ms/step - loss: 0.0419 - accuracy: 0.9581\n",
      "Epoch 196/200\n",
      "2500/2500 [==============================] - 6s 2ms/step - loss: 0.0419 - accuracy: 0.9581\n",
      "Epoch 197/200\n",
      "2500/2500 [==============================] - 6s 2ms/step - loss: 0.0419 - accuracy: 0.9581\n",
      "Epoch 198/200\n",
      "2500/2500 [==============================] - 6s 2ms/step - loss: 0.0419 - accuracy: 0.9581\n",
      "Epoch 199/200\n",
      "2500/2500 [==============================] - 6s 2ms/step - loss: 0.0426 - accuracy: 0.9578\n",
      "Epoch 200/200\n",
      "2500/2500 [==============================] - 6s 2ms/step - loss: 0.0421 - accuracy: 0.9581\n"
     ]
    },
    {
     "data": {
      "text/plain": [
       "<keras.callbacks.History at 0x1e571355f50>"
      ]
     },
     "execution_count": 30,
     "metadata": {},
     "output_type": "execute_result"
    }
   ],
   "source": [
    "ann.fit(X_train,y_train,batch_size=32,epochs=200)"
   ]
  },
  {
   "cell_type": "markdown",
   "id": "418aeae2",
   "metadata": {},
   "source": [
    "since the ANN didnt give a good accuracy, i will try the decision tree."
   ]
  },
  {
   "cell_type": "code",
   "execution_count": 31,
   "id": "2e2b5ee4",
   "metadata": {},
   "outputs": [
    {
     "name": "stdout",
     "output_type": "stream",
     "text": [
      "625/625 [==============================] - 2s 2ms/step\n"
     ]
    }
   ],
   "source": [
    "y_pred = ann.predict(X_test)\n",
    "# Convert predictions classes to one hot vectors \n",
    "y_pred_class = np.argmax(y_pred) \n",
    "# Convert test data to one hot vectors\n",
    "y_true = np.argmax(y_test) "
   ]
  },
  {
   "cell_type": "code",
   "execution_count": 32,
   "id": "9ed4cdd6",
   "metadata": {},
   "outputs": [
    {
     "name": "stdout",
     "output_type": "stream",
     "text": [
      "[[1. 0. 0.]\n",
      " [0. 1. 0.]\n",
      " [0. 1. 0.]]\n",
      "0.962\n"
     ]
    }
   ],
   "source": [
    "from sklearn.metrics import confusion_matrix, accuracy_score\n",
    "cm = confusion_matrix(y_test,y_pred.round(), normalize= 'true')\n",
    "print(cm)\n",
    "acc=accuracy_score(y_test, np.round(abs(y_pred)), normalize=True)\n",
    "print(acc)"
   ]
  },
  {
   "cell_type": "markdown",
   "id": "2298bbe9",
   "metadata": {},
   "source": [
    "## Decision Tree Classifier"
   ]
  },
  {
   "cell_type": "code",
   "execution_count": 35,
   "id": "0b1cf7a8",
   "metadata": {},
   "outputs": [
    {
     "data": {
      "text/html": [
       "<style>#sk-container-id-1 {color: black;background-color: white;}#sk-container-id-1 pre{padding: 0;}#sk-container-id-1 div.sk-toggleable {background-color: white;}#sk-container-id-1 label.sk-toggleable__label {cursor: pointer;display: block;width: 100%;margin-bottom: 0;padding: 0.3em;box-sizing: border-box;text-align: center;}#sk-container-id-1 label.sk-toggleable__label-arrow:before {content: \"▸\";float: left;margin-right: 0.25em;color: #696969;}#sk-container-id-1 label.sk-toggleable__label-arrow:hover:before {color: black;}#sk-container-id-1 div.sk-estimator:hover label.sk-toggleable__label-arrow:before {color: black;}#sk-container-id-1 div.sk-toggleable__content {max-height: 0;max-width: 0;overflow: hidden;text-align: left;background-color: #f0f8ff;}#sk-container-id-1 div.sk-toggleable__content pre {margin: 0.2em;color: black;border-radius: 0.25em;background-color: #f0f8ff;}#sk-container-id-1 input.sk-toggleable__control:checked~div.sk-toggleable__content {max-height: 200px;max-width: 100%;overflow: auto;}#sk-container-id-1 input.sk-toggleable__control:checked~label.sk-toggleable__label-arrow:before {content: \"▾\";}#sk-container-id-1 div.sk-estimator input.sk-toggleable__control:checked~label.sk-toggleable__label {background-color: #d4ebff;}#sk-container-id-1 div.sk-label input.sk-toggleable__control:checked~label.sk-toggleable__label {background-color: #d4ebff;}#sk-container-id-1 input.sk-hidden--visually {border: 0;clip: rect(1px 1px 1px 1px);clip: rect(1px, 1px, 1px, 1px);height: 1px;margin: -1px;overflow: hidden;padding: 0;position: absolute;width: 1px;}#sk-container-id-1 div.sk-estimator {font-family: monospace;background-color: #f0f8ff;border: 1px dotted black;border-radius: 0.25em;box-sizing: border-box;margin-bottom: 0.5em;}#sk-container-id-1 div.sk-estimator:hover {background-color: #d4ebff;}#sk-container-id-1 div.sk-parallel-item::after {content: \"\";width: 100%;border-bottom: 1px solid gray;flex-grow: 1;}#sk-container-id-1 div.sk-label:hover label.sk-toggleable__label {background-color: #d4ebff;}#sk-container-id-1 div.sk-serial::before {content: \"\";position: absolute;border-left: 1px solid gray;box-sizing: border-box;top: 0;bottom: 0;left: 50%;z-index: 0;}#sk-container-id-1 div.sk-serial {display: flex;flex-direction: column;align-items: center;background-color: white;padding-right: 0.2em;padding-left: 0.2em;position: relative;}#sk-container-id-1 div.sk-item {position: relative;z-index: 1;}#sk-container-id-1 div.sk-parallel {display: flex;align-items: stretch;justify-content: center;background-color: white;position: relative;}#sk-container-id-1 div.sk-item::before, #sk-container-id-1 div.sk-parallel-item::before {content: \"\";position: absolute;border-left: 1px solid gray;box-sizing: border-box;top: 0;bottom: 0;left: 50%;z-index: -1;}#sk-container-id-1 div.sk-parallel-item {display: flex;flex-direction: column;z-index: 1;position: relative;background-color: white;}#sk-container-id-1 div.sk-parallel-item:first-child::after {align-self: flex-end;width: 50%;}#sk-container-id-1 div.sk-parallel-item:last-child::after {align-self: flex-start;width: 50%;}#sk-container-id-1 div.sk-parallel-item:only-child::after {width: 0;}#sk-container-id-1 div.sk-dashed-wrapped {border: 1px dashed gray;margin: 0 0.4em 0.5em 0.4em;box-sizing: border-box;padding-bottom: 0.4em;background-color: white;}#sk-container-id-1 div.sk-label label {font-family: monospace;font-weight: bold;display: inline-block;line-height: 1.2em;}#sk-container-id-1 div.sk-label-container {text-align: center;}#sk-container-id-1 div.sk-container {/* jupyter's `normalize.less` sets `[hidden] { display: none; }` but bootstrap.min.css set `[hidden] { display: none !important; }` so we also need the `!important` here to be able to override the default hidden behavior on the sphinx rendered scikit-learn.org. See: https://github.com/scikit-learn/scikit-learn/issues/21755 */display: inline-block !important;position: relative;}#sk-container-id-1 div.sk-text-repr-fallback {display: none;}</style><div id=\"sk-container-id-1\" class=\"sk-top-container\"><div class=\"sk-text-repr-fallback\"><pre>DecisionTreeClassifier(max_depth=2, min_samples_leaf=20, random_state=200)</pre><b>In a Jupyter environment, please rerun this cell to show the HTML representation or trust the notebook. <br />On GitHub, the HTML representation is unable to render, please try loading this page with nbviewer.org.</b></div><div class=\"sk-container\" hidden><div class=\"sk-item\"><div class=\"sk-estimator sk-toggleable\"><input class=\"sk-toggleable__control sk-hidden--visually\" id=\"sk-estimator-id-1\" type=\"checkbox\" checked><label for=\"sk-estimator-id-1\" class=\"sk-toggleable__label sk-toggleable__label-arrow\">DecisionTreeClassifier</label><div class=\"sk-toggleable__content\"><pre>DecisionTreeClassifier(max_depth=2, min_samples_leaf=20, random_state=200)</pre></div></div></div></div></div>"
      ],
      "text/plain": [
       "DecisionTreeClassifier(max_depth=2, min_samples_leaf=20, random_state=200)"
      ]
     },
     "execution_count": 35,
     "metadata": {},
     "output_type": "execute_result"
    }
   ],
   "source": [
    "model_dt=DecisionTreeClassifier(criterion = \"gini\",random_state = 200,max_depth=2, min_samples_leaf=20)\n",
    "model_dt.fit(X_train,y_train)"
   ]
  },
  {
   "cell_type": "code",
   "execution_count": 36,
   "id": "d99cc527",
   "metadata": {},
   "outputs": [
    {
     "data": {
      "text/plain": [
       "array([1, 1, 0, ..., 0, 0, 1], dtype=int64)"
      ]
     },
     "execution_count": 36,
     "metadata": {},
     "output_type": "execute_result"
    }
   ],
   "source": [
    "y_pred=model_dt.predict(X_test)\n",
    "y_pred"
   ]
  },
  {
   "cell_type": "code",
   "execution_count": 37,
   "id": "9e1847e1",
   "metadata": {},
   "outputs": [
    {
     "data": {
      "text/plain": [
       "1.0"
      ]
     },
     "execution_count": 37,
     "metadata": {},
     "output_type": "execute_result"
    }
   ],
   "source": [
    "model_dt.score(X_test,y_test)"
   ]
  },
  {
   "cell_type": "code",
   "execution_count": 318,
   "id": "8e964411",
   "metadata": {},
   "outputs": [
    {
     "name": "stdout",
     "output_type": "stream",
     "text": [
      "              precision    recall  f1-score   support\n",
      "\n",
      "           0       1.00      1.00      1.00      4646\n",
      "           1       1.00      1.00      1.00      4946\n",
      "\n",
      "   micro avg       1.00      1.00      1.00      9592\n",
      "   macro avg       1.00      1.00      1.00      9592\n",
      "weighted avg       1.00      1.00      1.00      9592\n",
      "\n"
     ]
    }
   ],
   "source": [
    "print(classification_report(y_test, y_pred, labels=[0,1]))"
   ]
  },
  {
   "cell_type": "code",
   "execution_count": 267,
   "id": "3e9ea199",
   "metadata": {},
   "outputs": [],
   "source": [
    "from imblearn.over_sampling import SMOTE\n",
    "oversample = SMOTE()\n",
    "X_resampled, y_resampled = oversample.fit_resample(X, y)"
   ]
  },
  {
   "cell_type": "code",
   "execution_count": 268,
   "id": "2db1457e",
   "metadata": {},
   "outputs": [],
   "source": [
    "xr_train,xr_test,yr_train,yr_test=train_test_split(X_resampled, y_resampled,test_size=0.2)"
   ]
  },
  {
   "cell_type": "code",
   "execution_count": 269,
   "id": "c36bde56",
   "metadata": {},
   "outputs": [],
   "source": [
    "model_dt_smote=DecisionTreeClassifier(criterion = \"gini\",random_state = 100,max_depth=6, min_samples_leaf=8)"
   ]
  },
  {
   "cell_type": "code",
   "execution_count": 270,
   "id": "2592e319",
   "metadata": {},
   "outputs": [
    {
     "name": "stdout",
     "output_type": "stream",
     "text": [
      "1.0\n",
      "              precision    recall  f1-score   support\n",
      "\n",
      "           0       1.00      1.00      1.00     10019\n",
      "           1       1.00      1.00      1.00     10153\n",
      "           2       1.00      1.00      1.00      9841\n",
      "\n",
      "    accuracy                           1.00     30013\n",
      "   macro avg       1.00      1.00      1.00     30013\n",
      "weighted avg       1.00      1.00      1.00     30013\n",
      "\n"
     ]
    }
   ],
   "source": [
    "model_dt_smote.fit(xr_train,yr_train)\n",
    "yr_predict = model_dt_smote.predict(xr_test)\n",
    "model_score_r = model_dt_smote.score(xr_test, yr_test)\n",
    "print(model_score_r)\n",
    "print(metrics.classification_report(yr_test, yr_predict))"
   ]
  },
  {
   "cell_type": "markdown",
   "id": "4487f9a9",
   "metadata": {},
   "source": [
    "Still the accuracy is pretty low. So we can use Random Forest Classifier."
   ]
  },
  {
   "cell_type": "markdown",
   "id": "6670f529",
   "metadata": {},
   "source": [
    "## Random Forest Classifier"
   ]
  },
  {
   "cell_type": "code",
   "execution_count": 388,
   "id": "0df5a3e1",
   "metadata": {},
   "outputs": [
    {
     "data": {
      "text/html": [
       "<style>#sk-container-id-18 {color: black;background-color: white;}#sk-container-id-18 pre{padding: 0;}#sk-container-id-18 div.sk-toggleable {background-color: white;}#sk-container-id-18 label.sk-toggleable__label {cursor: pointer;display: block;width: 100%;margin-bottom: 0;padding: 0.3em;box-sizing: border-box;text-align: center;}#sk-container-id-18 label.sk-toggleable__label-arrow:before {content: \"▸\";float: left;margin-right: 0.25em;color: #696969;}#sk-container-id-18 label.sk-toggleable__label-arrow:hover:before {color: black;}#sk-container-id-18 div.sk-estimator:hover label.sk-toggleable__label-arrow:before {color: black;}#sk-container-id-18 div.sk-toggleable__content {max-height: 0;max-width: 0;overflow: hidden;text-align: left;background-color: #f0f8ff;}#sk-container-id-18 div.sk-toggleable__content pre {margin: 0.2em;color: black;border-radius: 0.25em;background-color: #f0f8ff;}#sk-container-id-18 input.sk-toggleable__control:checked~div.sk-toggleable__content {max-height: 200px;max-width: 100%;overflow: auto;}#sk-container-id-18 input.sk-toggleable__control:checked~label.sk-toggleable__label-arrow:before {content: \"▾\";}#sk-container-id-18 div.sk-estimator input.sk-toggleable__control:checked~label.sk-toggleable__label {background-color: #d4ebff;}#sk-container-id-18 div.sk-label input.sk-toggleable__control:checked~label.sk-toggleable__label {background-color: #d4ebff;}#sk-container-id-18 input.sk-hidden--visually {border: 0;clip: rect(1px 1px 1px 1px);clip: rect(1px, 1px, 1px, 1px);height: 1px;margin: -1px;overflow: hidden;padding: 0;position: absolute;width: 1px;}#sk-container-id-18 div.sk-estimator {font-family: monospace;background-color: #f0f8ff;border: 1px dotted black;border-radius: 0.25em;box-sizing: border-box;margin-bottom: 0.5em;}#sk-container-id-18 div.sk-estimator:hover {background-color: #d4ebff;}#sk-container-id-18 div.sk-parallel-item::after {content: \"\";width: 100%;border-bottom: 1px solid gray;flex-grow: 1;}#sk-container-id-18 div.sk-label:hover label.sk-toggleable__label {background-color: #d4ebff;}#sk-container-id-18 div.sk-serial::before {content: \"\";position: absolute;border-left: 1px solid gray;box-sizing: border-box;top: 0;bottom: 0;left: 50%;z-index: 0;}#sk-container-id-18 div.sk-serial {display: flex;flex-direction: column;align-items: center;background-color: white;padding-right: 0.2em;padding-left: 0.2em;position: relative;}#sk-container-id-18 div.sk-item {position: relative;z-index: 1;}#sk-container-id-18 div.sk-parallel {display: flex;align-items: stretch;justify-content: center;background-color: white;position: relative;}#sk-container-id-18 div.sk-item::before, #sk-container-id-18 div.sk-parallel-item::before {content: \"\";position: absolute;border-left: 1px solid gray;box-sizing: border-box;top: 0;bottom: 0;left: 50%;z-index: -1;}#sk-container-id-18 div.sk-parallel-item {display: flex;flex-direction: column;z-index: 1;position: relative;background-color: white;}#sk-container-id-18 div.sk-parallel-item:first-child::after {align-self: flex-end;width: 50%;}#sk-container-id-18 div.sk-parallel-item:last-child::after {align-self: flex-start;width: 50%;}#sk-container-id-18 div.sk-parallel-item:only-child::after {width: 0;}#sk-container-id-18 div.sk-dashed-wrapped {border: 1px dashed gray;margin: 0 0.4em 0.5em 0.4em;box-sizing: border-box;padding-bottom: 0.4em;background-color: white;}#sk-container-id-18 div.sk-label label {font-family: monospace;font-weight: bold;display: inline-block;line-height: 1.2em;}#sk-container-id-18 div.sk-label-container {text-align: center;}#sk-container-id-18 div.sk-container {/* jupyter's `normalize.less` sets `[hidden] { display: none; }` but bootstrap.min.css set `[hidden] { display: none !important; }` so we also need the `!important` here to be able to override the default hidden behavior on the sphinx rendered scikit-learn.org. See: https://github.com/scikit-learn/scikit-learn/issues/21755 */display: inline-block !important;position: relative;}#sk-container-id-18 div.sk-text-repr-fallback {display: none;}</style><div id=\"sk-container-id-18\" class=\"sk-top-container\"><div class=\"sk-text-repr-fallback\"><pre>RandomForestClassifier(max_depth=6, min_samples_leaf=8, random_state=1000)</pre><b>In a Jupyter environment, please rerun this cell to show the HTML representation or trust the notebook. <br />On GitHub, the HTML representation is unable to render, please try loading this page with nbviewer.org.</b></div><div class=\"sk-container\" hidden><div class=\"sk-item\"><div class=\"sk-estimator sk-toggleable\"><input class=\"sk-toggleable__control sk-hidden--visually\" id=\"sk-estimator-id-18\" type=\"checkbox\" checked><label for=\"sk-estimator-id-18\" class=\"sk-toggleable__label sk-toggleable__label-arrow\">RandomForestClassifier</label><div class=\"sk-toggleable__content\"><pre>RandomForestClassifier(max_depth=6, min_samples_leaf=8, random_state=1000)</pre></div></div></div></div></div>"
      ],
      "text/plain": [
       "RandomForestClassifier(max_depth=6, min_samples_leaf=8, random_state=1000)"
      ]
     },
     "execution_count": 388,
     "metadata": {},
     "output_type": "execute_result"
    }
   ],
   "source": [
    "from sklearn.ensemble import RandomForestClassifier\n",
    "model_rf=RandomForestClassifier(n_estimators=100, criterion='gini', random_state = 1000,max_depth=6, min_samples_leaf=8)\n",
    "model_rf.fit(X_train,y_train)"
   ]
  },
  {
   "cell_type": "code",
   "execution_count": 389,
   "id": "29da08ca",
   "metadata": {},
   "outputs": [
    {
     "data": {
      "text/plain": [
       "1.0"
      ]
     },
     "execution_count": 389,
     "metadata": {},
     "output_type": "execute_result"
    }
   ],
   "source": [
    "y_pred=model_rf.predict(X_test)\n",
    "model_rf.score(X_test,y_test)"
   ]
  },
  {
   "cell_type": "code",
   "execution_count": 332,
   "id": "f08251e3",
   "metadata": {},
   "outputs": [
    {
     "name": "stdout",
     "output_type": "stream",
     "text": [
      "              precision    recall  f1-score   support\n",
      "\n",
      "           0       1.00      1.00      1.00      4646\n",
      "           1       1.00      1.00      1.00      4946\n",
      "\n",
      "   micro avg       1.00      1.00      1.00      9592\n",
      "   macro avg       1.00      1.00      1.00      9592\n",
      "weighted avg       1.00      1.00      1.00      9592\n",
      "\n"
     ]
    }
   ],
   "source": [
    "print(classification_report(y_test, y_pred, labels=[0,1]))"
   ]
  },
  {
   "cell_type": "code",
   "execution_count": 274,
   "id": "6799b8fe",
   "metadata": {},
   "outputs": [
    {
     "data": {
      "text/html": [
       "<style>#sk-container-id-11 {color: black;background-color: white;}#sk-container-id-11 pre{padding: 0;}#sk-container-id-11 div.sk-toggleable {background-color: white;}#sk-container-id-11 label.sk-toggleable__label {cursor: pointer;display: block;width: 100%;margin-bottom: 0;padding: 0.3em;box-sizing: border-box;text-align: center;}#sk-container-id-11 label.sk-toggleable__label-arrow:before {content: \"▸\";float: left;margin-right: 0.25em;color: #696969;}#sk-container-id-11 label.sk-toggleable__label-arrow:hover:before {color: black;}#sk-container-id-11 div.sk-estimator:hover label.sk-toggleable__label-arrow:before {color: black;}#sk-container-id-11 div.sk-toggleable__content {max-height: 0;max-width: 0;overflow: hidden;text-align: left;background-color: #f0f8ff;}#sk-container-id-11 div.sk-toggleable__content pre {margin: 0.2em;color: black;border-radius: 0.25em;background-color: #f0f8ff;}#sk-container-id-11 input.sk-toggleable__control:checked~div.sk-toggleable__content {max-height: 200px;max-width: 100%;overflow: auto;}#sk-container-id-11 input.sk-toggleable__control:checked~label.sk-toggleable__label-arrow:before {content: \"▾\";}#sk-container-id-11 div.sk-estimator input.sk-toggleable__control:checked~label.sk-toggleable__label {background-color: #d4ebff;}#sk-container-id-11 div.sk-label input.sk-toggleable__control:checked~label.sk-toggleable__label {background-color: #d4ebff;}#sk-container-id-11 input.sk-hidden--visually {border: 0;clip: rect(1px 1px 1px 1px);clip: rect(1px, 1px, 1px, 1px);height: 1px;margin: -1px;overflow: hidden;padding: 0;position: absolute;width: 1px;}#sk-container-id-11 div.sk-estimator {font-family: monospace;background-color: #f0f8ff;border: 1px dotted black;border-radius: 0.25em;box-sizing: border-box;margin-bottom: 0.5em;}#sk-container-id-11 div.sk-estimator:hover {background-color: #d4ebff;}#sk-container-id-11 div.sk-parallel-item::after {content: \"\";width: 100%;border-bottom: 1px solid gray;flex-grow: 1;}#sk-container-id-11 div.sk-label:hover label.sk-toggleable__label {background-color: #d4ebff;}#sk-container-id-11 div.sk-serial::before {content: \"\";position: absolute;border-left: 1px solid gray;box-sizing: border-box;top: 0;bottom: 0;left: 50%;z-index: 0;}#sk-container-id-11 div.sk-serial {display: flex;flex-direction: column;align-items: center;background-color: white;padding-right: 0.2em;padding-left: 0.2em;position: relative;}#sk-container-id-11 div.sk-item {position: relative;z-index: 1;}#sk-container-id-11 div.sk-parallel {display: flex;align-items: stretch;justify-content: center;background-color: white;position: relative;}#sk-container-id-11 div.sk-item::before, #sk-container-id-11 div.sk-parallel-item::before {content: \"\";position: absolute;border-left: 1px solid gray;box-sizing: border-box;top: 0;bottom: 0;left: 50%;z-index: -1;}#sk-container-id-11 div.sk-parallel-item {display: flex;flex-direction: column;z-index: 1;position: relative;background-color: white;}#sk-container-id-11 div.sk-parallel-item:first-child::after {align-self: flex-end;width: 50%;}#sk-container-id-11 div.sk-parallel-item:last-child::after {align-self: flex-start;width: 50%;}#sk-container-id-11 div.sk-parallel-item:only-child::after {width: 0;}#sk-container-id-11 div.sk-dashed-wrapped {border: 1px dashed gray;margin: 0 0.4em 0.5em 0.4em;box-sizing: border-box;padding-bottom: 0.4em;background-color: white;}#sk-container-id-11 div.sk-label label {font-family: monospace;font-weight: bold;display: inline-block;line-height: 1.2em;}#sk-container-id-11 div.sk-label-container {text-align: center;}#sk-container-id-11 div.sk-container {/* jupyter's `normalize.less` sets `[hidden] { display: none; }` but bootstrap.min.css set `[hidden] { display: none !important; }` so we also need the `!important` here to be able to override the default hidden behavior on the sphinx rendered scikit-learn.org. See: https://github.com/scikit-learn/scikit-learn/issues/21755 */display: inline-block !important;position: relative;}#sk-container-id-11 div.sk-text-repr-fallback {display: none;}</style><div id=\"sk-container-id-11\" class=\"sk-top-container\"><div class=\"sk-text-repr-fallback\"><pre>RandomForestClassifier(max_depth=6, min_samples_leaf=8, random_state=100)</pre><b>In a Jupyter environment, please rerun this cell to show the HTML representation or trust the notebook. <br />On GitHub, the HTML representation is unable to render, please try loading this page with nbviewer.org.</b></div><div class=\"sk-container\" hidden><div class=\"sk-item\"><div class=\"sk-estimator sk-toggleable\"><input class=\"sk-toggleable__control sk-hidden--visually\" id=\"sk-estimator-id-11\" type=\"checkbox\" checked><label for=\"sk-estimator-id-11\" class=\"sk-toggleable__label sk-toggleable__label-arrow\">RandomForestClassifier</label><div class=\"sk-toggleable__content\"><pre>RandomForestClassifier(max_depth=6, min_samples_leaf=8, random_state=100)</pre></div></div></div></div></div>"
      ],
      "text/plain": [
       "RandomForestClassifier(max_depth=6, min_samples_leaf=8, random_state=100)"
      ]
     },
     "execution_count": 274,
     "metadata": {},
     "output_type": "execute_result"
    }
   ],
   "source": [
    "from imblearn.over_sampling import SMOTE\n",
    "oversample = SMOTE()\n",
    "X_resampled, y_resampled = oversample.fit_resample(X, y)\n",
    "xr_train1,xr_test1,yr_train1,yr_test1=train_test_split(X_resampled, y_resampled,test_size=0.2)\n",
    "model_rf_smote=RandomForestClassifier(n_estimators=100, criterion='gini', random_state = 100,max_depth=6, min_samples_leaf=8)\n",
    "model_rf_smote.fit(xr_train1,yr_train1)"
   ]
  },
  {
   "cell_type": "code",
   "execution_count": 275,
   "id": "68a208fa",
   "metadata": {},
   "outputs": [
    {
     "name": "stdout",
     "output_type": "stream",
     "text": [
      "1.0\n",
      "              precision    recall  f1-score   support\n",
      "\n",
      "           0       1.00      1.00      1.00     10105\n",
      "           1       1.00      1.00      1.00      9965\n",
      "           2       1.00      1.00      1.00      9943\n",
      "\n",
      "    accuracy                           1.00     30013\n",
      "   macro avg       1.00      1.00      1.00     30013\n",
      "weighted avg       1.00      1.00      1.00     30013\n",
      "\n"
     ]
    }
   ],
   "source": [
    "yr_predict1 = model_rf_smote.predict(xr_test1)\n",
    "model_score_r1 = model_rf_smote.score(xr_test1, yr_test1)\n",
    "print(model_score_r1)\n",
    "print(metrics.classification_report(yr_test1, yr_predict1))"
   ]
  },
  {
   "cell_type": "code",
   "execution_count": 165,
   "id": "a04d0342",
   "metadata": {},
   "outputs": [
    {
     "name": "stdout",
     "output_type": "stream",
     "text": [
      "[[1590    0    0    0    0    0    0    0    0    0    0    0]\n",
      " [   0 1662   18    0    0    0    0    0    0    0    0    0]\n",
      " [   0    0 1649    0    0    0    0    0    0    0    0    0]\n",
      " [   0    0    0 1552    4    0   20   73    1    1    0    0]\n",
      " [   0    0    0   18 1638    2    2    9    0    0    0    0]\n",
      " [   0    0    0    5  277  322  742  323    2    0    0    0]\n",
      " [   0    0    0    0   46  150  963  432   89    5    1    0]\n",
      " [   0    0    0    0    0   93  131 1037  362   49    2    0]\n",
      " [   0    0    0    0    0   49   18  141 1312  162   27    0]\n",
      " [   0    0    0    0    0   26    7   26    7 1527   64    0]\n",
      " [   0    0    0    0    0    2    3   11    6   75 1626    0]\n",
      " [   0    0    0    0    0    0    0    0    0    0    0 1641]]\n"
     ]
    }
   ],
   "source": [
    "print(metrics.confusion_matrix(y_test, y_pred))"
   ]
  },
  {
   "cell_type": "markdown",
   "id": "f3560450",
   "metadata": {},
   "source": [
    "## Performing PCA"
   ]
  },
  {
   "cell_type": "code",
   "execution_count": 276,
   "id": "fd925a76",
   "metadata": {},
   "outputs": [],
   "source": [
    "# Applying PCA\n",
    "from sklearn.decomposition import PCA\n",
    "pca = PCA(0.9)\n",
    "xr_train_pca = pca.fit_transform(xr_train1)\n",
    "xr_test_pca = pca.transform(xr_test1)\n",
    "explained_variance = pca.explained_variance_ratio_"
   ]
  },
  {
   "cell_type": "code",
   "execution_count": 277,
   "id": "e6405531",
   "metadata": {},
   "outputs": [],
   "source": [
    "model=RandomForestClassifier(n_estimators=100, criterion='gini', random_state = 100,max_depth=6, min_samples_leaf=8)"
   ]
  },
  {
   "cell_type": "code",
   "execution_count": 278,
   "id": "fbec0280",
   "metadata": {},
   "outputs": [
    {
     "data": {
      "text/html": [
       "<style>#sk-container-id-12 {color: black;background-color: white;}#sk-container-id-12 pre{padding: 0;}#sk-container-id-12 div.sk-toggleable {background-color: white;}#sk-container-id-12 label.sk-toggleable__label {cursor: pointer;display: block;width: 100%;margin-bottom: 0;padding: 0.3em;box-sizing: border-box;text-align: center;}#sk-container-id-12 label.sk-toggleable__label-arrow:before {content: \"▸\";float: left;margin-right: 0.25em;color: #696969;}#sk-container-id-12 label.sk-toggleable__label-arrow:hover:before {color: black;}#sk-container-id-12 div.sk-estimator:hover label.sk-toggleable__label-arrow:before {color: black;}#sk-container-id-12 div.sk-toggleable__content {max-height: 0;max-width: 0;overflow: hidden;text-align: left;background-color: #f0f8ff;}#sk-container-id-12 div.sk-toggleable__content pre {margin: 0.2em;color: black;border-radius: 0.25em;background-color: #f0f8ff;}#sk-container-id-12 input.sk-toggleable__control:checked~div.sk-toggleable__content {max-height: 200px;max-width: 100%;overflow: auto;}#sk-container-id-12 input.sk-toggleable__control:checked~label.sk-toggleable__label-arrow:before {content: \"▾\";}#sk-container-id-12 div.sk-estimator input.sk-toggleable__control:checked~label.sk-toggleable__label {background-color: #d4ebff;}#sk-container-id-12 div.sk-label input.sk-toggleable__control:checked~label.sk-toggleable__label {background-color: #d4ebff;}#sk-container-id-12 input.sk-hidden--visually {border: 0;clip: rect(1px 1px 1px 1px);clip: rect(1px, 1px, 1px, 1px);height: 1px;margin: -1px;overflow: hidden;padding: 0;position: absolute;width: 1px;}#sk-container-id-12 div.sk-estimator {font-family: monospace;background-color: #f0f8ff;border: 1px dotted black;border-radius: 0.25em;box-sizing: border-box;margin-bottom: 0.5em;}#sk-container-id-12 div.sk-estimator:hover {background-color: #d4ebff;}#sk-container-id-12 div.sk-parallel-item::after {content: \"\";width: 100%;border-bottom: 1px solid gray;flex-grow: 1;}#sk-container-id-12 div.sk-label:hover label.sk-toggleable__label {background-color: #d4ebff;}#sk-container-id-12 div.sk-serial::before {content: \"\";position: absolute;border-left: 1px solid gray;box-sizing: border-box;top: 0;bottom: 0;left: 50%;z-index: 0;}#sk-container-id-12 div.sk-serial {display: flex;flex-direction: column;align-items: center;background-color: white;padding-right: 0.2em;padding-left: 0.2em;position: relative;}#sk-container-id-12 div.sk-item {position: relative;z-index: 1;}#sk-container-id-12 div.sk-parallel {display: flex;align-items: stretch;justify-content: center;background-color: white;position: relative;}#sk-container-id-12 div.sk-item::before, #sk-container-id-12 div.sk-parallel-item::before {content: \"\";position: absolute;border-left: 1px solid gray;box-sizing: border-box;top: 0;bottom: 0;left: 50%;z-index: -1;}#sk-container-id-12 div.sk-parallel-item {display: flex;flex-direction: column;z-index: 1;position: relative;background-color: white;}#sk-container-id-12 div.sk-parallel-item:first-child::after {align-self: flex-end;width: 50%;}#sk-container-id-12 div.sk-parallel-item:last-child::after {align-self: flex-start;width: 50%;}#sk-container-id-12 div.sk-parallel-item:only-child::after {width: 0;}#sk-container-id-12 div.sk-dashed-wrapped {border: 1px dashed gray;margin: 0 0.4em 0.5em 0.4em;box-sizing: border-box;padding-bottom: 0.4em;background-color: white;}#sk-container-id-12 div.sk-label label {font-family: monospace;font-weight: bold;display: inline-block;line-height: 1.2em;}#sk-container-id-12 div.sk-label-container {text-align: center;}#sk-container-id-12 div.sk-container {/* jupyter's `normalize.less` sets `[hidden] { display: none; }` but bootstrap.min.css set `[hidden] { display: none !important; }` so we also need the `!important` here to be able to override the default hidden behavior on the sphinx rendered scikit-learn.org. See: https://github.com/scikit-learn/scikit-learn/issues/21755 */display: inline-block !important;position: relative;}#sk-container-id-12 div.sk-text-repr-fallback {display: none;}</style><div id=\"sk-container-id-12\" class=\"sk-top-container\"><div class=\"sk-text-repr-fallback\"><pre>RandomForestClassifier(max_depth=6, min_samples_leaf=8, random_state=100)</pre><b>In a Jupyter environment, please rerun this cell to show the HTML representation or trust the notebook. <br />On GitHub, the HTML representation is unable to render, please try loading this page with nbviewer.org.</b></div><div class=\"sk-container\" hidden><div class=\"sk-item\"><div class=\"sk-estimator sk-toggleable\"><input class=\"sk-toggleable__control sk-hidden--visually\" id=\"sk-estimator-id-12\" type=\"checkbox\" checked><label for=\"sk-estimator-id-12\" class=\"sk-toggleable__label sk-toggleable__label-arrow\">RandomForestClassifier</label><div class=\"sk-toggleable__content\"><pre>RandomForestClassifier(max_depth=6, min_samples_leaf=8, random_state=100)</pre></div></div></div></div></div>"
      ],
      "text/plain": [
       "RandomForestClassifier(max_depth=6, min_samples_leaf=8, random_state=100)"
      ]
     },
     "execution_count": 278,
     "metadata": {},
     "output_type": "execute_result"
    }
   ],
   "source": [
    "model.fit(xr_train_pca,yr_train1)"
   ]
  },
  {
   "cell_type": "code",
   "execution_count": 279,
   "id": "c6833ba4",
   "metadata": {},
   "outputs": [],
   "source": [
    "yr_predict_pca = model.predict(xr_test_pca)"
   ]
  },
  {
   "cell_type": "code",
   "execution_count": 280,
   "id": "60f3fe61",
   "metadata": {},
   "outputs": [
    {
     "name": "stdout",
     "output_type": "stream",
     "text": [
      "0.6816712757804951\n",
      "              precision    recall  f1-score   support\n",
      "\n",
      "           0       0.88      0.82      0.85     10105\n",
      "           1       0.52      0.66      0.58      9965\n",
      "           2       0.72      0.56      0.63      9943\n",
      "\n",
      "    accuracy                           0.68     30013\n",
      "   macro avg       0.70      0.68      0.69     30013\n",
      "weighted avg       0.70      0.68      0.69     30013\n",
      "\n"
     ]
    }
   ],
   "source": [
    "model_score_r_pca = model.score(xr_test_pca, yr_test1)\n",
    "print(model_score_r_pca)\n",
    "print(metrics.classification_report(yr_test1, yr_predict_pca))"
   ]
  },
  {
   "cell_type": "markdown",
   "id": "136b8b9f",
   "metadata": {},
   "source": [
    "With PCA, we couldn't see any better results, hence let's finalise the model which was created by RF Classifier, and save the model so that we can use it in a later stage"
   ]
  },
  {
   "cell_type": "markdown",
   "id": "1ca3f360",
   "metadata": {},
   "source": [
    "# Since we can see that the best accuracy of 96% was obtained by using an ANN."
   ]
  },
  {
   "cell_type": "markdown",
   "id": "fcbee29c",
   "metadata": {},
   "source": [
    "## Saving the Model."
   ]
  },
  {
   "cell_type": "code",
   "execution_count": 40,
   "id": "43eb7011",
   "metadata": {},
   "outputs": [],
   "source": [
    "ann.save('Neural Network.h5')\n",
    "#ann.load_weights('Neural Network.h5')"
   ]
  },
  {
   "cell_type": "code",
   "execution_count": 33,
   "id": "cac8a9d6",
   "metadata": {},
   "outputs": [],
   "source": [
    "import pickle"
   ]
  },
  {
   "cell_type": "code",
   "execution_count": 34,
   "id": "056c1863",
   "metadata": {},
   "outputs": [],
   "source": [
    "pickle.dump(ann, open('model.pkl','wb'))"
   ]
  },
  {
   "cell_type": "code",
   "execution_count": 50,
   "id": "32e7d6fc",
   "metadata": {},
   "outputs": [],
   "source": [
    "#pickle.dump(ann.predict, open(filename, 'wb'))"
   ]
  },
  {
   "cell_type": "code",
   "execution_count": 35,
   "id": "fd84df91",
   "metadata": {},
   "outputs": [],
   "source": [
    "model = pickle.load(open('model.pkl','rb'))\n",
    "#load_model = pickle.load(open(filename, 'rb'))"
   ]
  },
  {
   "cell_type": "code",
   "execution_count": 36,
   "id": "7c84ef35",
   "metadata": {},
   "outputs": [
    {
     "name": "stdout",
     "output_type": "stream",
     "text": [
      "625/625 [==============================] - 1s 2ms/step\n"
     ]
    }
   ],
   "source": [
    "model_score_r1 = ann.predict(X_test)"
   ]
  },
  {
   "cell_type": "code",
   "execution_count": 55,
   "id": "3bc66047",
   "metadata": {},
   "outputs": [],
   "source": [
    "#x=([[63 ,'Male','Los Angeles',17,73.36,1247.12,236]])"
   ]
  },
  {
   "cell_type": "code",
   "execution_count": null,
   "id": "56db15f9",
   "metadata": {},
   "outputs": [],
   "source": []
  },
  {
   "cell_type": "code",
   "execution_count": 56,
   "id": "0e7c8b0c",
   "metadata": {},
   "outputs": [],
   "source": [
    "\n",
    "#x[,:1]=le.fit_transform(x[,:1])"
   ]
  },
  {
   "cell_type": "code",
   "execution_count": 37,
   "id": "65b935a4",
   "metadata": {},
   "outputs": [
    {
     "name": "stdout",
     "output_type": "stream",
     "text": [
      "625/625 [==============================] - 1s 2ms/step\n"
     ]
    }
   ],
   "source": [
    "y_pred = ann.predict(X_test)\n",
    "# Convert predictions classes to one hot vectors \n",
    "y_pred_class = np.argmax(y_pred) \n",
    "# Convert test data to one hot vectors\n",
    "y_true = np.argmax(y_test)"
   ]
  },
  {
   "cell_type": "code",
   "execution_count": 38,
   "id": "e399c0b5",
   "metadata": {},
   "outputs": [
    {
     "name": "stdout",
     "output_type": "stream",
     "text": [
      "[[1. 0. 0.]\n",
      " [0. 1. 0.]\n",
      " [0. 1. 0.]]\n"
     ]
    },
    {
     "data": {
      "text/plain": [
       "0.962"
      ]
     },
     "execution_count": 38,
     "metadata": {},
     "output_type": "execute_result"
    }
   ],
   "source": [
    "from sklearn.metrics import confusion_matrix, accuracy_score\n",
    "cm = confusion_matrix(y_test,y_pred.round(), normalize= 'true')\n",
    "print(cm)\n",
    "acc=accuracy_score(y_test, np.round(abs(y_pred)), normalize=True)\n",
    "model_score=acc\n",
    "model_score"
   ]
  },
  {
   "cell_type": "code",
   "execution_count": 49,
   "id": "90cb2ade",
   "metadata": {},
   "outputs": [],
   "source": [
    "def predict_msg(x_test, model):\n",
    "    return(ann.predict(x_test).tolist())"
   ]
  },
  {
   "cell_type": "code",
   "execution_count": null,
   "id": "7e77fb34",
   "metadata": {},
   "outputs": [],
   "source": []
  }
 ],
 "metadata": {
  "kernelspec": {
   "display_name": "Python 3 (ipykernel)",
   "language": "python",
   "name": "python3"
  },
  "language_info": {
   "codemirror_mode": {
    "name": "ipython",
    "version": 3
   },
   "file_extension": ".py",
   "mimetype": "text/x-python",
   "name": "python",
   "nbconvert_exporter": "python",
   "pygments_lexer": "ipython3",
   "version": "3.11.2"
  }
 },
 "nbformat": 4,
 "nbformat_minor": 5
}
